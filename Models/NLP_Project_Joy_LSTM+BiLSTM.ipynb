{
  "nbformat": 4,
  "nbformat_minor": 0,
  "metadata": {
    "colab": {
      "name": "NLP_Project.ipynb",
      "provenance": [],
      "include_colab_link": true
    },
    "kernelspec": {
      "name": "python3",
      "display_name": "Python 3"
    },
    "language_info": {
      "name": "python"
    }
  },
  "cells": [
    {
      "cell_type": "markdown",
      "metadata": {
        "id": "view-in-github",
        "colab_type": "text"
      },
      "source": [
        "<a href=\"https://colab.research.google.com/github/paresh-nayyar/CSCI-544_NLP/blob/master/NLP_Project_Joy_LSTM%2BBiLSTM.ipynb\" target=\"_parent\"><img src=\"https://colab.research.google.com/assets/colab-badge.svg\" alt=\"Open In Colab\"/></a>"
      ]
    },
    {
      "cell_type": "code",
      "source": [
        "import re\n",
        "import pandas as pd\n",
        "import string"
      ],
      "metadata": {
        "id": "Z4d_IsSHiJga"
      },
      "execution_count": 1,
      "outputs": []
    },
    {
      "cell_type": "code",
      "execution_count": 2,
      "metadata": {
        "colab": {
          "base_uri": "https://localhost:8080/"
        },
        "id": "hXRIEswfhOaB",
        "outputId": "20fa6cfe-5a85-47ee-d447-f18ef9d3a3d4"
      },
      "outputs": [
        {
          "output_type": "stream",
          "name": "stdout",
          "text": [
            "  category                                         Statements\n",
            "0    happy                     esh bar ka summer the best tha\n",
            "1    angry                               sala chutiya hai log\n",
            "2  neutral         I just came back yesterday from California\n",
            "3    happy         family ke sat califonia gumane me maza aya\n",
            "4    happy  ghar ke sab logo ko thankyou mera sat rhane ka...\n"
          ]
        }
      ],
      "source": [
        "url = 'https://raw.githubusercontent.com/paresh-nayyar/CSCI-544_NLP/master/data/code_mix_sentences_emotions_tagged.csv?token=GHSAT0AAAAAABTJRLBZ5MDZHWSYQSJMB6KOYSWNJVA'\n",
        "df = pd.read_csv(url)\n",
        "\n",
        "print(df.head(5))"
      ]
    },
    {
      "cell_type": "code",
      "source": [
        "df.columns"
      ],
      "metadata": {
        "colab": {
          "base_uri": "https://localhost:8080/"
        },
        "id": "VuDj65YOvpXP",
        "outputId": "f530bddc-cfc5-4d42-eb3a-21340c62327e"
      },
      "execution_count": 3,
      "outputs": [
        {
          "output_type": "execute_result",
          "data": {
            "text/plain": [
              "Index(['category', 'Statements'], dtype='object')"
            ]
          },
          "metadata": {},
          "execution_count": 3
        }
      ]
    },
    {
      "cell_type": "code",
      "source": [
        "df.category.value_counts()"
      ],
      "metadata": {
        "colab": {
          "base_uri": "https://localhost:8080/"
        },
        "id": "WhpaD4JLvpb7",
        "outputId": "1e2eb966-72e0-4a81-f0d9-707afd16e727"
      },
      "execution_count": 4,
      "outputs": [
        {
          "output_type": "execute_result",
          "data": {
            "text/plain": [
              "happy       142\n",
              "sad          79\n",
              "angry        70\n",
              "neutral      70\n",
              "fear         30\n",
              "surprise      7\n",
              "Name: category, dtype: int64"
            ]
          },
          "metadata": {},
          "execution_count": 4
        }
      ]
    },
    {
      "cell_type": "code",
      "source": [
        "len(df)"
      ],
      "metadata": {
        "colab": {
          "base_uri": "https://localhost:8080/"
        },
        "id": "qVARLz6fweK3",
        "outputId": "200de140-826a-451d-958e-df6b861e29f2"
      },
      "execution_count": 5,
      "outputs": [
        {
          "output_type": "execute_result",
          "data": {
            "text/plain": [
              "398"
            ]
          },
          "metadata": {},
          "execution_count": 5
        }
      ]
    },
    {
      "cell_type": "code",
      "source": [
        "def cleanSentence(sentence):\n",
        "  sentence = sentence.lower()\n",
        "  sentence = sentence.rstrip().replace(\"\\n\",\" \").replace(\"\\r\",\" \")\n",
        "  sentence = re.sub(' +', ' ', sentence)\n",
        "  sentence = sentence.translate(str.maketrans('', '', string.punctuation))\n",
        "\n",
        "  return sentence\n",
        "\n",
        "df[\"Statements\"]= df[\"Statements\"].apply(lambda x : cleanSentence(x))\n",
        "df.head()"
      ],
      "metadata": {
        "colab": {
          "base_uri": "https://localhost:8080/",
          "height": 206
        },
        "id": "lzA1kMxmw_Jj",
        "outputId": "416b180d-ade4-47a7-e056-91695f2490b5"
      },
      "execution_count": 6,
      "outputs": [
        {
          "output_type": "execute_result",
          "data": {
            "text/plain": [
              "  category                                         Statements\n",
              "0    happy                     esh bar ka summer the best tha\n",
              "1    angry                               sala chutiya hai log\n",
              "2  neutral         i just came back yesterday from california\n",
              "3    happy         family ke sat califonia gumane me maza aya\n",
              "4    happy  ghar ke sab logo ko thankyou mera sat rhane ka..."
            ],
            "text/html": [
              "\n",
              "  <div id=\"df-ff09fdbc-ff93-4c9e-b942-8ba09089f622\">\n",
              "    <div class=\"colab-df-container\">\n",
              "      <div>\n",
              "<style scoped>\n",
              "    .dataframe tbody tr th:only-of-type {\n",
              "        vertical-align: middle;\n",
              "    }\n",
              "\n",
              "    .dataframe tbody tr th {\n",
              "        vertical-align: top;\n",
              "    }\n",
              "\n",
              "    .dataframe thead th {\n",
              "        text-align: right;\n",
              "    }\n",
              "</style>\n",
              "<table border=\"1\" class=\"dataframe\">\n",
              "  <thead>\n",
              "    <tr style=\"text-align: right;\">\n",
              "      <th></th>\n",
              "      <th>category</th>\n",
              "      <th>Statements</th>\n",
              "    </tr>\n",
              "  </thead>\n",
              "  <tbody>\n",
              "    <tr>\n",
              "      <th>0</th>\n",
              "      <td>happy</td>\n",
              "      <td>esh bar ka summer the best tha</td>\n",
              "    </tr>\n",
              "    <tr>\n",
              "      <th>1</th>\n",
              "      <td>angry</td>\n",
              "      <td>sala chutiya hai log</td>\n",
              "    </tr>\n",
              "    <tr>\n",
              "      <th>2</th>\n",
              "      <td>neutral</td>\n",
              "      <td>i just came back yesterday from california</td>\n",
              "    </tr>\n",
              "    <tr>\n",
              "      <th>3</th>\n",
              "      <td>happy</td>\n",
              "      <td>family ke sat califonia gumane me maza aya</td>\n",
              "    </tr>\n",
              "    <tr>\n",
              "      <th>4</th>\n",
              "      <td>happy</td>\n",
              "      <td>ghar ke sab logo ko thankyou mera sat rhane ka...</td>\n",
              "    </tr>\n",
              "  </tbody>\n",
              "</table>\n",
              "</div>\n",
              "      <button class=\"colab-df-convert\" onclick=\"convertToInteractive('df-ff09fdbc-ff93-4c9e-b942-8ba09089f622')\"\n",
              "              title=\"Convert this dataframe to an interactive table.\"\n",
              "              style=\"display:none;\">\n",
              "        \n",
              "  <svg xmlns=\"http://www.w3.org/2000/svg\" height=\"24px\"viewBox=\"0 0 24 24\"\n",
              "       width=\"24px\">\n",
              "    <path d=\"M0 0h24v24H0V0z\" fill=\"none\"/>\n",
              "    <path d=\"M18.56 5.44l.94 2.06.94-2.06 2.06-.94-2.06-.94-.94-2.06-.94 2.06-2.06.94zm-11 1L8.5 8.5l.94-2.06 2.06-.94-2.06-.94L8.5 2.5l-.94 2.06-2.06.94zm10 10l.94 2.06.94-2.06 2.06-.94-2.06-.94-.94-2.06-.94 2.06-2.06.94z\"/><path d=\"M17.41 7.96l-1.37-1.37c-.4-.4-.92-.59-1.43-.59-.52 0-1.04.2-1.43.59L10.3 9.45l-7.72 7.72c-.78.78-.78 2.05 0 2.83L4 21.41c.39.39.9.59 1.41.59.51 0 1.02-.2 1.41-.59l7.78-7.78 2.81-2.81c.8-.78.8-2.07 0-2.86zM5.41 20L4 18.59l7.72-7.72 1.47 1.35L5.41 20z\"/>\n",
              "  </svg>\n",
              "      </button>\n",
              "      \n",
              "  <style>\n",
              "    .colab-df-container {\n",
              "      display:flex;\n",
              "      flex-wrap:wrap;\n",
              "      gap: 12px;\n",
              "    }\n",
              "\n",
              "    .colab-df-convert {\n",
              "      background-color: #E8F0FE;\n",
              "      border: none;\n",
              "      border-radius: 50%;\n",
              "      cursor: pointer;\n",
              "      display: none;\n",
              "      fill: #1967D2;\n",
              "      height: 32px;\n",
              "      padding: 0 0 0 0;\n",
              "      width: 32px;\n",
              "    }\n",
              "\n",
              "    .colab-df-convert:hover {\n",
              "      background-color: #E2EBFA;\n",
              "      box-shadow: 0px 1px 2px rgba(60, 64, 67, 0.3), 0px 1px 3px 1px rgba(60, 64, 67, 0.15);\n",
              "      fill: #174EA6;\n",
              "    }\n",
              "\n",
              "    [theme=dark] .colab-df-convert {\n",
              "      background-color: #3B4455;\n",
              "      fill: #D2E3FC;\n",
              "    }\n",
              "\n",
              "    [theme=dark] .colab-df-convert:hover {\n",
              "      background-color: #434B5C;\n",
              "      box-shadow: 0px 1px 3px 1px rgba(0, 0, 0, 0.15);\n",
              "      filter: drop-shadow(0px 1px 2px rgba(0, 0, 0, 0.3));\n",
              "      fill: #FFFFFF;\n",
              "    }\n",
              "  </style>\n",
              "\n",
              "      <script>\n",
              "        const buttonEl =\n",
              "          document.querySelector('#df-ff09fdbc-ff93-4c9e-b942-8ba09089f622 button.colab-df-convert');\n",
              "        buttonEl.style.display =\n",
              "          google.colab.kernel.accessAllowed ? 'block' : 'none';\n",
              "\n",
              "        async function convertToInteractive(key) {\n",
              "          const element = document.querySelector('#df-ff09fdbc-ff93-4c9e-b942-8ba09089f622');\n",
              "          const dataTable =\n",
              "            await google.colab.kernel.invokeFunction('convertToInteractive',\n",
              "                                                     [key], {});\n",
              "          if (!dataTable) return;\n",
              "\n",
              "          const docLinkHtml = 'Like what you see? Visit the ' +\n",
              "            '<a target=\"_blank\" href=https://colab.research.google.com/notebooks/data_table.ipynb>data table notebook</a>'\n",
              "            + ' to learn more about interactive tables.';\n",
              "          element.innerHTML = '';\n",
              "          dataTable['output_type'] = 'display_data';\n",
              "          await google.colab.output.renderOutput(dataTable, element);\n",
              "          const docLink = document.createElement('div');\n",
              "          docLink.innerHTML = docLinkHtml;\n",
              "          element.appendChild(docLink);\n",
              "        }\n",
              "      </script>\n",
              "    </div>\n",
              "  </div>\n",
              "  "
            ]
          },
          "metadata": {},
          "execution_count": 6
        }
      ]
    },
    {
      "cell_type": "code",
      "source": [
        "def tokenize(sentence):\n",
        "  tokens = sentence.split(\" \")\n",
        "  tokens = [x for x in tokens if len(x)>0]\n",
        "  return tokens\n",
        "\n",
        "df[\"tokens\"]= df[\"Statements\"].apply(lambda x : tokenize(x))\n",
        "df.head()"
      ],
      "metadata": {
        "id": "r7foFV8FghUs",
        "outputId": "d5bf2a49-cfb2-4c7d-c5b2-690b49e92df3",
        "colab": {
          "base_uri": "https://localhost:8080/",
          "height": 206
        }
      },
      "execution_count": 7,
      "outputs": [
        {
          "output_type": "execute_result",
          "data": {
            "text/plain": [
              "  category                                         Statements  \\\n",
              "0    happy                     esh bar ka summer the best tha   \n",
              "1    angry                               sala chutiya hai log   \n",
              "2  neutral         i just came back yesterday from california   \n",
              "3    happy         family ke sat califonia gumane me maza aya   \n",
              "4    happy  ghar ke sab logo ko thankyou mera sat rhane ka...   \n",
              "\n",
              "                                              tokens  \n",
              "0             [esh, bar, ka, summer, the, best, tha]  \n",
              "1                          [sala, chutiya, hai, log]  \n",
              "2  [i, just, came, back, yesterday, from, califor...  \n",
              "3  [family, ke, sat, califonia, gumane, me, maza,...  \n",
              "4  [ghar, ke, sab, logo, ko, thankyou, mera, sat,...  "
            ],
            "text/html": [
              "\n",
              "  <div id=\"df-b7d95f64-7d3f-4f32-9bea-69079f49b099\">\n",
              "    <div class=\"colab-df-container\">\n",
              "      <div>\n",
              "<style scoped>\n",
              "    .dataframe tbody tr th:only-of-type {\n",
              "        vertical-align: middle;\n",
              "    }\n",
              "\n",
              "    .dataframe tbody tr th {\n",
              "        vertical-align: top;\n",
              "    }\n",
              "\n",
              "    .dataframe thead th {\n",
              "        text-align: right;\n",
              "    }\n",
              "</style>\n",
              "<table border=\"1\" class=\"dataframe\">\n",
              "  <thead>\n",
              "    <tr style=\"text-align: right;\">\n",
              "      <th></th>\n",
              "      <th>category</th>\n",
              "      <th>Statements</th>\n",
              "      <th>tokens</th>\n",
              "    </tr>\n",
              "  </thead>\n",
              "  <tbody>\n",
              "    <tr>\n",
              "      <th>0</th>\n",
              "      <td>happy</td>\n",
              "      <td>esh bar ka summer the best tha</td>\n",
              "      <td>[esh, bar, ka, summer, the, best, tha]</td>\n",
              "    </tr>\n",
              "    <tr>\n",
              "      <th>1</th>\n",
              "      <td>angry</td>\n",
              "      <td>sala chutiya hai log</td>\n",
              "      <td>[sala, chutiya, hai, log]</td>\n",
              "    </tr>\n",
              "    <tr>\n",
              "      <th>2</th>\n",
              "      <td>neutral</td>\n",
              "      <td>i just came back yesterday from california</td>\n",
              "      <td>[i, just, came, back, yesterday, from, califor...</td>\n",
              "    </tr>\n",
              "    <tr>\n",
              "      <th>3</th>\n",
              "      <td>happy</td>\n",
              "      <td>family ke sat califonia gumane me maza aya</td>\n",
              "      <td>[family, ke, sat, califonia, gumane, me, maza,...</td>\n",
              "    </tr>\n",
              "    <tr>\n",
              "      <th>4</th>\n",
              "      <td>happy</td>\n",
              "      <td>ghar ke sab logo ko thankyou mera sat rhane ka...</td>\n",
              "      <td>[ghar, ke, sab, logo, ko, thankyou, mera, sat,...</td>\n",
              "    </tr>\n",
              "  </tbody>\n",
              "</table>\n",
              "</div>\n",
              "      <button class=\"colab-df-convert\" onclick=\"convertToInteractive('df-b7d95f64-7d3f-4f32-9bea-69079f49b099')\"\n",
              "              title=\"Convert this dataframe to an interactive table.\"\n",
              "              style=\"display:none;\">\n",
              "        \n",
              "  <svg xmlns=\"http://www.w3.org/2000/svg\" height=\"24px\"viewBox=\"0 0 24 24\"\n",
              "       width=\"24px\">\n",
              "    <path d=\"M0 0h24v24H0V0z\" fill=\"none\"/>\n",
              "    <path d=\"M18.56 5.44l.94 2.06.94-2.06 2.06-.94-2.06-.94-.94-2.06-.94 2.06-2.06.94zm-11 1L8.5 8.5l.94-2.06 2.06-.94-2.06-.94L8.5 2.5l-.94 2.06-2.06.94zm10 10l.94 2.06.94-2.06 2.06-.94-2.06-.94-.94-2.06-.94 2.06-2.06.94z\"/><path d=\"M17.41 7.96l-1.37-1.37c-.4-.4-.92-.59-1.43-.59-.52 0-1.04.2-1.43.59L10.3 9.45l-7.72 7.72c-.78.78-.78 2.05 0 2.83L4 21.41c.39.39.9.59 1.41.59.51 0 1.02-.2 1.41-.59l7.78-7.78 2.81-2.81c.8-.78.8-2.07 0-2.86zM5.41 20L4 18.59l7.72-7.72 1.47 1.35L5.41 20z\"/>\n",
              "  </svg>\n",
              "      </button>\n",
              "      \n",
              "  <style>\n",
              "    .colab-df-container {\n",
              "      display:flex;\n",
              "      flex-wrap:wrap;\n",
              "      gap: 12px;\n",
              "    }\n",
              "\n",
              "    .colab-df-convert {\n",
              "      background-color: #E8F0FE;\n",
              "      border: none;\n",
              "      border-radius: 50%;\n",
              "      cursor: pointer;\n",
              "      display: none;\n",
              "      fill: #1967D2;\n",
              "      height: 32px;\n",
              "      padding: 0 0 0 0;\n",
              "      width: 32px;\n",
              "    }\n",
              "\n",
              "    .colab-df-convert:hover {\n",
              "      background-color: #E2EBFA;\n",
              "      box-shadow: 0px 1px 2px rgba(60, 64, 67, 0.3), 0px 1px 3px 1px rgba(60, 64, 67, 0.15);\n",
              "      fill: #174EA6;\n",
              "    }\n",
              "\n",
              "    [theme=dark] .colab-df-convert {\n",
              "      background-color: #3B4455;\n",
              "      fill: #D2E3FC;\n",
              "    }\n",
              "\n",
              "    [theme=dark] .colab-df-convert:hover {\n",
              "      background-color: #434B5C;\n",
              "      box-shadow: 0px 1px 3px 1px rgba(0, 0, 0, 0.15);\n",
              "      filter: drop-shadow(0px 1px 2px rgba(0, 0, 0, 0.3));\n",
              "      fill: #FFFFFF;\n",
              "    }\n",
              "  </style>\n",
              "\n",
              "      <script>\n",
              "        const buttonEl =\n",
              "          document.querySelector('#df-b7d95f64-7d3f-4f32-9bea-69079f49b099 button.colab-df-convert');\n",
              "        buttonEl.style.display =\n",
              "          google.colab.kernel.accessAllowed ? 'block' : 'none';\n",
              "\n",
              "        async function convertToInteractive(key) {\n",
              "          const element = document.querySelector('#df-b7d95f64-7d3f-4f32-9bea-69079f49b099');\n",
              "          const dataTable =\n",
              "            await google.colab.kernel.invokeFunction('convertToInteractive',\n",
              "                                                     [key], {});\n",
              "          if (!dataTable) return;\n",
              "\n",
              "          const docLinkHtml = 'Like what you see? Visit the ' +\n",
              "            '<a target=\"_blank\" href=https://colab.research.google.com/notebooks/data_table.ipynb>data table notebook</a>'\n",
              "            + ' to learn more about interactive tables.';\n",
              "          element.innerHTML = '';\n",
              "          dataTable['output_type'] = 'display_data';\n",
              "          await google.colab.output.renderOutput(dataTable, element);\n",
              "          const docLink = document.createElement('div');\n",
              "          docLink.innerHTML = docLinkHtml;\n",
              "          element.appendChild(docLink);\n",
              "        }\n",
              "      </script>\n",
              "    </div>\n",
              "  </div>\n",
              "  "
            ]
          },
          "metadata": {},
          "execution_count": 7
        }
      ]
    },
    {
      "cell_type": "code",
      "source": [
        "def getVocab(df):\n",
        "  vocab = set()\n",
        "  for tokens in df[\"tokens\"]:\n",
        "    tokens = set(tokens)\n",
        "    vocab = vocab.union(tokens)\n",
        "  return list(vocab)\n",
        "\n",
        "vocab = getVocab(df)\n",
        "len(vocab)"
      ],
      "metadata": {
        "id": "an-mM_j2hdn1",
        "outputId": "1cc35d27-7a12-4263-8f0b-c3d4b4d2595d",
        "colab": {
          "base_uri": "https://localhost:8080/"
        }
      },
      "execution_count": 8,
      "outputs": [
        {
          "output_type": "execute_result",
          "data": {
            "text/plain": [
              "1990"
            ]
          },
          "metadata": {},
          "execution_count": 8
        }
      ]
    },
    {
      "cell_type": "code",
      "source": [
        "\", \".join(vocab)"
      ],
      "metadata": {
        "id": "OLw72fhuiZIU",
        "outputId": "e293fa3b-2fef-4045-fd02-9eefc68d8fde",
        "colab": {
          "base_uri": "https://localhost:8080/",
          "height": 160
        }
      },
      "execution_count": 9,
      "outputs": [
        {
          "output_type": "execute_result",
          "data": {
            "text/plain": [
              "'pardesh, badiya, express, gana, hor, ya, rhi, rahen, there, need, border, tea, masala, kabada, hath, agar, dat, sahi, pas, 3, jaan, sundar, aour, bakwass, nok, love, situatn, desires, har, gaal, chahte, bhaut, cangan, totaly, laundiya, enjoy, talented, mumy, confusing, sharam, lg, california, kadmon, daalke, listening, meh, pi, tarfa, score, feel, yr, wai, boreeee, pahali, hello, armaan, indira, modi, prblms, bhagega, tumhe, hotey, hmari, mut, evry, monk, world, country, bad, topper, where, dept, lammmmbbbbbaaaaaa, my, maang, kill, haha, dijie, kch, aswome, de, fantastic, apas, mushaq, oonpe, fielder, jaisi, nigaah, army, ple, yehi, bete, jaaye, form, yeh, luck, watching, q, sochna, pdega, gya, abhinetri, bhaav, lol, dono, diz, short, banoge, if, kro, ka, kardiya, they, breaking, mili, dekhengey, dur, hppy, achhe, opening, sucks, admsn, id, chutiya, halat, aunty, miss, jhnd, sorry, kahne, pak, bhi, pani, bigad, moments, phele, jagah, iitb, kaaran, bs, india, cut, kinda, dekhna, uneki, kharche, lipstik, girls, dimak, bhaag, gadi, hospital, his, had, bta, huye, maaniye, thi, achi, aa, nw, arey, aukaat, raho, 2, jitni, muje, krti, posts, matki, corrupted, kind, 0, frnds, comment, hardwork, poster, jindagi, naa, not, movie, those, trust, mil, bhot, treatment, waiting, ata, jus, kiski, tbhi, sis, goodu, rehti, re, saag, ji, true, system, jae, hamesha, dmb, thank, bd, proposal, sci, ta, harana, vivah, an, jana, dega, toh, hoti, percnt, poore, lagta, st, awaas, krva, galat, kharidana, smjhegi, bet, bkwaas, kitana, aajkal, both, wrds, hu, dhkan, eid, summer, lifeboy, kitne, know, moralss, tumhari, rahe, kiay, bathroom, beer, ll, mean, aukat, utni, stock, backup, pillarz, hero, chal, dressing, nitish, around, jodi, sweating, tarah, abvp, bakwas, 9, ghar, rahahu, bhahut, black, 20, sadness, huhi, nobody, chor, rakh, ishaq, accha, o, jatey, maasi, unki, sweet, reading, krega, khate, aapko, no, icc, do, apke, chiz, sytem, this, padi, achha, admin, dharam, singel, another, tuu, jaega, saamna, about, naaa, few, kam, letay, jeet, shikayat, plan, thrgh, gotta, doesnt, paise, dikh, tbi, successful, sem, store, dharma, im, mummy, rok, e, renamed, stop, wind, ate, webcam, moti, yehkarishma, gaye, hat, prakash, pad, keliya, each, darashata, today, on, extraordinary, pdi, ladka, next, valo, raina, tb, date, hogi, laufed, finally, studies, zamana, second, sumjeme, ayi, krrish, noone, sonu, son, smile, gayatri, yes, httpwwwrahulgandhinetin, confesor, elawa, whoever, smylin, emosanal, bhau, msg, remember, teri, unko, bandhan, lv, baithi, mill, napunsak, apni, kia, abi, hyderabad, gucci, bahar, gujjar, fuel, result, ankho, vale, support, way, arai, help, joot, cnfsns, confessions, kum, cal, d, yaar, vs, sataao, wid, best, efforts, sachai, deepika, leone, sensible, being, prents, chehre, mazak, insecurity, articipation, sob, awesome, bhar, its, khud, we, kaha, legal, tomr, cnfs, mt, moto, haye, cant, men, standards, will, bechara, hone, hope, aaj, ladke, dekhne, hogaye, independence, beta, ram, known, loose, aadhe, surprise, narendra, damdar, dusre, pe, kb, he, 80, khol, woh, lgegi, bol, even, bachene, hmesha, good, chahe, ustad, idiot, padai, aka, lyf, honeymoon, tym, abe, heropanti, chutiyen, chahi, youll, boy, ri, university, ke, trophy, really, well, aese, yar, miley, kuch, chez, failure, teer, brad, jahan, appreciate, bt, khelne, cncl, dude, voice, saath, whole, naya, deserv, ary, pal, nh, bhandarkar, hats, kitna, kaise, payar, out, pd, style, got, bechari, yesterday, waheguru, neck, basicaly, karta, manega, kaam, karte, basa, rakhsha, yaad, dosto, failurez, her, ranjhaana, apani, pyr, maybe, husn, aane, dimag, apeal, sarson, wakt, apne, esh, padhai, rahi, karl, general, ti, herself, vala, song, kisi, dna, nautanki, phone, sms, khudkhusi, karke, hell, ramesh, network, sirf, facts, mat, please, juz, acchi, sing, sab, cheat, review, bnakar, hain, fuckng, mast, iitian, bareme, shrab, into, naam, engineer, in, krna, life, karti, christian, mature, bich, mantra, vd, say, controversy, jaatin, adorable, caste, nikla, sachin, chennai, somethings, moron, the, sure, i, sat, hame, towards, heere, rajpal, open, made, yourself, complition, papa, padh, request, pine, tension, divide, simply, fir, neend, jesi, mahfil, funny, smaj, galti, tell, keh, all, marte, dhakke, v, walking, baadiya, behna, bat, itz, dikha, kahenge, kilaste, upon, gandalf, teen, cutie, ajkal, huaa, jahaan, broadband, people, crack, da, sun, our, kamine, babu, bnd, free, bajaye, beautiful, cnfdnt, khul, carore, acc, c, peeing, picture, lettr, pakka, zzx, bahut, ws, karmachaari, angrying, vishnu, aucha, shud, solve, thodi, hve, janata, hais, are, jane, gr8, shift, suicide, mile, payega, first, chudaai, arya, virgin, n, gira, accoeding, step, nikal, dyndra, someone, send, honi, loot, phuket, mene, nainsaafi, punjab, khushi, f, aamir, college, nonsence, kar, lagati, gandhinagar, thanks, ertiga, rikshaw, kamaal, age, shadi, wajah, sir, kutto, justice, was, pakau, deshbhagto, chutiyapanti, disorder, bc, rest, califonia, ki, drink, beti, sunny, khatam, whn, start, rape, shyd, frnd, yahi, never, sbse, update, hua, york, pontecorvo, qk, avatar, sapne, ice, but, aj, karishma, practical, skill, superb, dil, likes, sidha, krte, chappal, intlgnt, huva, kha, saali, ye, chodo, hurt, came, remake, days, baut, has, sc, 6, felngs, record, gifts, up, tailor, lyrics, daal, tubhi, karni, bhaga, federer, llo, kartha, bezti, download, cnfsr, australia, padukone, back, problm, before, jolie, inne, bengaali, grl, at, years, harmonal, ap, pdhte, piroliye, badi, gea, admi, jau, hn, entnaa, hmare, u, dhoop, official, salwaar, chief, li, mjhe, batana, jindgi, pataao, ise, karna, haapy, p, kabool, chehra, page, pkka, bolna, fb, bdi, wishing, french, final, ucchalo, pta, your, odi, mere, aww, dkhne, wale, place, correct, mentaly, nd, horahahe, aya, prfume, hasi, unlike, hayran, nariyal, battery, samjh, cracking, rhoge, olive, considering, maja, been, uspr, hila, nawabi, now, several, delay, dharti, hein, ugle, ayurveda, hota, xam, aye, itne, garav, kroo, dis, apki, aacha, thums, kbhi, ghatiya, theek, brave, prediction, chill, live, patane, mr, dekha, hamri, bhag, unemployment, nonsense, sune, maha, ghmne, ayega, theres, achcha, sanik, heart, agaye, jadhav, padke, aap, thodena, pada, sch, hau, jinda, confessor, dimg, usse, gift, kaliye, nahi, seema, only, dete, oilbhaut, jaata, pina, biriyaani, kamo, banaya, hgya, karne, poet, bhool, bike, bata, make, m, khila, ho, vrna, taleey, traits, thode, usey, nind, baki, some, lagake, mera, hr, yai, karoge, deserved, dosth, gali, pitt, partition, she, khada, nazar, women, jati, keep, subh, puri, times, pappu, cup, anath, thinks, plane, post, dena, ladaki, tho, famous, yhi, dusro, ashamed, 90, bus, attha, english, abt, bato, friends, auntys, kre, santi, paa, respect, class, gud, senti, poor, ever, chick, tera, pyaar, adhe, jaisa, bula, move, taki, subah, south, ne, pakne, mvi, liked, ghr, usme, from, ni, rastey, lagtey, for, wrna, roti, hum, insaan, basanti, jaise, chuthia, wat, jee, jate, singer, so, wala, drinking, food, dunia, upa, khali, their, us, cnfesn, apneapuko, bahu, lakiyo, krtay, show, 4th, posted, end, humans, chalayega, liya, who, cake, themselves, sbne, diye, aisa, unpe, sunna, sukriya, heaven, last, pata, indians, cnfsn, jyda, ladki, 12th, lgega, karega, thoda, kehte, hacked, sochte, goes, break, new, met, full, gaya, jayega, sabse, relation, rqst, kiya, jao, mara, inhe, 2day, ol, pakate, foto, frst, kese, liye, ppl, kabhi, ldkiya, bf, sm, complan, gf, bicho, chayiye, boliye, mana, strong, aakar, guyz, topics, padane, earned, car, chun, sa, logo, concentrate, ring, kya, real, cousin, yojana, wishes, gals, kp, by, agree, jaaneman, hunnnn, clg, mae, ansu, ek, yatho, jalan, undstand, sakti, vehle, jokes, muh, pls, side, saal, park, ques, socha, mein, him, wali, bless, succeed, diffrnce, aise, a, ragging, ds, prblm, chairman, heard, uske, desh, hostels, skydeck, bhai, apna, drar, maaja, tu, tume, conc, si, tere, congressi, topic, over, angelina, bismillah, gae, anyway, katrinas, gillo, shehnai, etana, promote, team, because, intrst, umc, gandhi, youtube, god, history, dsprately, shikhar, pyarr, bukhaar, markandey, baar, bdhya, bank, jinhe, dnt, thankyou, leti, itna, cheezo, b, rahega, fool, widout, log, milega, krne, frds, mujhe, thankgod, dard, ban, issi, ladkiyo, hasaye, liyahi, khel, cutiee, fr, with, bhut, sath, bro, ske, ane, bnta, me, bhagwan, rona, jaye, laptop, fuche, dad, eicon1, katju, use, lots, cmment, pr, crazy, di, dear, hotel, read, keecha, waali, jada, kyu, kahani, aansuon, sochatey, upen, bhad, keliye, cool, sochta, iphone, go, vo, voting, nhi, confssion, flowers, to, bahaduri, karwane, mp3, main, gc, nay, them, delhi, qurbaan, humari, bjp, gujrat, gam, izzat, ab, khokhli, badiii, chla, yaara, hav, state, iska, sharp, hai, khe, potntial, pyar, hote, cm, behvr, pakistan, chalti, mobiles, sex, esi, milaga, badan, here, certificate, supprt, r, leli, sare, chaand, bura, poison, chura, tumera, tuje, maje, hoga, na, tak, earth, z, highest, joke, possible, jata, torture, pk, crption, jhok, achhi, tht, krlo, try, panoooti, thnk, like, kiss, 60, kasi, salman, hao, pehli, great, elections, pathetic, khan, wd, ponting, bohot, mre, rhte, acpt, baaton, lagata, pahle, chore, babugi, right, majedar, other, bar, chahti, thik, crcmtances, aaja, boom, aashiq, gumane, childwood, raha, rha, attack, pukar, phuch, rhe, lega, ï»¿sehwag, chis, cmmnt, waste, pain, defeated, pasand, monday, chipka, tum, padho, sb, pity, confidence, bharti, vinod, lekar, krana, kharidkhar, negative, sonakhsi, passionately, done, aanewaala, brother, overrct, sapno, something, lenge, univrsty, jerks, karwati, kyun, tha, mom, jyada, jaago, collection, skta, garme, chali, padhne, peeke, allowd, milkha, lesson, shame, kroooooo, dont, hokr, todti, baksh, development, lips, were, tmhare, confess, dhadkan, itni, lagega, khilwad, indian, bht, gyi, dia, hoge, off, gautam, mindset, tar, sale, chance, may, kbc, comments, maza, chale, bill, dekh, aaega, bano, iit, acche, certificates, vote, assumptions, oye, rkh, g3, smiling, look, sholay, faclulty, boss, hahaha, bada, janne, tne, makki, krnge, zinta, tujhe, bas, padta, aimlessly, pagal, zen, loads, kehna, kadr, aengi, gulbadan, folder, many, likhai, duc, such, solay, after, gurlz, success, novtel, bollywood, zone, coke, thing, lagwata, guess, sakate, ldki, day, what, fight, admission, btaega, 66, lgi, bihari, dhoom, would, hume, of, news, dain, t, frnshpday, sala, pehle, cnfssn, dn, paash, you, fadooo, cooooool, bed, dhoni, wanna, bilkul, hug, glti, waala, rhane, par, rang, composer, jeb, quite, tujse, pehenne, dp, ha, position, plz, 4, communication, bi, nahinsaf, hadd, bda, krde, diya, chaiye, dainik, choro, think, darling, ricky, bole, lagi, jayegi, dikhai, muslim, campaning, coz, wajeh, bande, episode, likha, youve, ladai, power, lag, nmbr, hindu, going, attract, bhhut, npr, sal, luxurious, dikhta, bloody, difficult, confession, fkr, shi, yha, maintaining, work, eiffel, acha, h, crush, under, chain, bsnl, chap, idiots, aaa, hindi, swiss, old, tan, super, change, bihar, mamo, k, kissed, site, majority, movies, garg, dobara, jab, dunya, tk, stay, long, stapati, dawai, guy, 99, krta, milkar, pelhe, belive, bhabhi, it, touch, already, sad, thinking, gir, kash, du, very, chahiye, mar, gye, kare, floor, dhawan, exchange, kool, skte, champions, e1, slap, sach, be, koi, rote, angry, study, past, again, din, ache, milne, mobile, hi, vikas, garmi, hona, wow, just, mushe, happy, dhyn, sometimes, maa, trying, tje, man, sikha, wit, dukhi, ati, bade, banda, baby, mirinda, kaan, nt, vidhi, party, zindagi, died, ladkii, cricket, meethe, jabrdast, ladwate, govt, y, kushi, votho, psent, habit, thnkjuu, esbar, hey, dimple, aarakshan, one, security, choot, srk, difrnce, chudel, lo, preity, kubsurtsi, congress, xd, music, s, meri, time, maari, rapists, prem, standing, kasam, job, tujhpe, chabi, village, tumhare, corruption, translation, mare, chalenged, karo, gme, dance, pgl, bday, tower, kitni, parentz, laga, bihario, padha, aiming, sick, why, sleeping, holiday, proud, paka, rulaye, shayari, se, yadav, yaa, diamond, btayega, government, fus, more, dialogue, tanhai, bhul, 6th, bombay, tre, as, buri, awaz, iz, marks, oconnor, humne, grossing, perfume, relationship, must, roads, maar, azaadi, cmmtd, apko, guys, thatz, denge, sabko, night, surksha, bani, jay, chu, yek, haat, kal, any, defence, dus, give, and, naach, yahan, hui, down, gai, ths, suna, yojna, chod, akisama, shared, jealous, dubara, maruti, hm, baad, dissatisfies, couple, lekr, phool, wrong, normal, bana, pass, baare, ur, photograph, popularity, pa, bhaiya, angryy, too, mai, ray, apprehend, sara, daddy, get, karthi, jiske, 4din, bachhe, aur, bach, kambli, ganda, road, 2hr, parents, madhur, jeeu, kbi, neva, ko, dost, chutiye, ja, tourism, gayi, kaun, dekho, wo, youre, abey, politician, bna, that, kaisa, while, dekhaka, galo, chutiyaa, uska, tabah, ending, humhe, ranveer, hatts, am, frndship, aisi, mjhse, buland, isse, smart, bolne, hoten, case, abhi, confident, khatey, nikl, win, baat, agr, confuse, saala, family, uth, atyachar, friend, octoberfest, tagged, hae, gonna, chalne, pyaari, classic, tune, dayan, thts, rqust, offers, year, beh, minister, jayram, bache, match, sometime, chori, saale, iitians, thachalo, wait, tumhara, should, batsman, is, have, deta, daala, useful, iss, hataao, madicin, rishte, ayagaa, gujarat, soja, boys, aswariya, tumne, fat, jo, sub, kyse, gold, worry, frustatd, khadi, unuko, bolta, treat, haar, nai, pati, marna, meaning, jarurat, lot, thanda, yaaro, pauua, cute, lovers, thn, fun, or, kr, value, le, message, jisme, aajayengey, nachle, release, status, sona, jadeja, karlo, rahul, keylia, hv, bni'"
            ],
            "application/vnd.google.colaboratory.intrinsic+json": {
              "type": "string"
            }
          },
          "metadata": {},
          "execution_count": 9
        }
      ]
    },
    {
      "cell_type": "code",
      "source": [
        "!pip install fasttext\n",
        "import fasttext\n",
        "import numpy as np\n",
        "import tensorflow as tf"
      ],
      "metadata": {
        "colab": {
          "base_uri": "https://localhost:8080/"
        },
        "id": "87JNB2xoKz7o",
        "outputId": "7beb9058-0545-4363-c724-2097ef4d5444"
      },
      "execution_count": 10,
      "outputs": [
        {
          "output_type": "stream",
          "name": "stdout",
          "text": [
            "Collecting fasttext\n",
            "  Downloading fasttext-0.9.2.tar.gz (68 kB)\n",
            "\u001b[?25l\r\u001b[K     |████▊                           | 10 kB 21.6 MB/s eta 0:00:01\r\u001b[K     |█████████▌                      | 20 kB 28.1 MB/s eta 0:00:01\r\u001b[K     |██████████████▎                 | 30 kB 29.0 MB/s eta 0:00:01\r\u001b[K     |███████████████████             | 40 kB 15.2 MB/s eta 0:00:01\r\u001b[K     |███████████████████████▉        | 51 kB 11.6 MB/s eta 0:00:01\r\u001b[K     |████████████████████████████▋   | 61 kB 13.3 MB/s eta 0:00:01\r\u001b[K     |████████████████████████████████| 68 kB 4.7 MB/s \n",
            "\u001b[?25hCollecting pybind11>=2.2\n",
            "  Using cached pybind11-2.9.2-py2.py3-none-any.whl (213 kB)\n",
            "Requirement already satisfied: setuptools>=0.7.0 in /usr/local/lib/python3.7/dist-packages (from fasttext) (57.4.0)\n",
            "Requirement already satisfied: numpy in /usr/local/lib/python3.7/dist-packages (from fasttext) (1.21.5)\n",
            "Building wheels for collected packages: fasttext\n",
            "  Building wheel for fasttext (setup.py) ... \u001b[?25l\u001b[?25hdone\n",
            "  Created wheel for fasttext: filename=fasttext-0.9.2-cp37-cp37m-linux_x86_64.whl size=3148851 sha256=914b3627e6a5d615df68b10f82a6b6043960ceec79f1ec4e78628ab7c7bde4d6\n",
            "  Stored in directory: /root/.cache/pip/wheels/4e/ca/bf/b020d2be95f7641801a6597a29c8f4f19e38f9c02a345bab9b\n",
            "Successfully built fasttext\n",
            "Installing collected packages: pybind11, fasttext\n",
            "Successfully installed fasttext-0.9.2 pybind11-2.9.2\n"
          ]
        }
      ]
    },
    {
      "cell_type": "code",
      "source": [
        "# Maybe there is a better way, some questions are best left unanswered..\n",
        "df['Statements'].to_csv(r'./pandas.txt', header=None, index=None, sep=' ', mode='a')\n",
        "em_model = fasttext.train_unsupervised(r'./pandas.txt')"
      ],
      "metadata": {
        "id": "fgJm9PPqLN0_"
      },
      "execution_count": 11,
      "outputs": []
    },
    {
      "cell_type": "code",
      "source": [
        "em_model.get_nearest_neighbors('meaning')\n",
        "len(em_model.get_word_vector('hais'))"
      ],
      "metadata": {
        "colab": {
          "base_uri": "https://localhost:8080/"
        },
        "id": "i4LnLqWlPTvK",
        "outputId": "1e949514-f34b-42d4-e973-0a6d264ec734"
      },
      "execution_count": 12,
      "outputs": [
        {
          "output_type": "execute_result",
          "data": {
            "text/plain": [
              "100"
            ]
          },
          "metadata": {},
          "execution_count": 12
        }
      ]
    },
    {
      "cell_type": "code",
      "source": [
        "# Build the embedding matrix\n",
        "vector_size = 100\n",
        "vocab_size = len(vocab)\n",
        "em_matrix = np.zeros((vocab_size, vector_size))\n",
        "for i in range(len(vocab)):\n",
        "  em_matrix[i] = em_model.get_word_vector(vocab[i])"
      ],
      "metadata": {
        "id": "o1QI46Uhj0RY"
      },
      "execution_count": 13,
      "outputs": []
    },
    {
      "cell_type": "code",
      "source": [
        "# Where the magic needs a sexy assistant\n",
        "model = tf.keras.Sequential()\n",
        "model.add(tf.keras.layers.Embedding(vocab_size, vector_size, weights=[em_matrix]))\n",
        "model.add(tf.keras.layers.Bidirectional(tf.keras.layers.LSTM(64, return_sequences=True)))\n",
        "model.add(tf.keras.layers.Dense(64, activation='relu'))\n",
        "model.add(tf.keras.layers.Dropout(0.4))\n",
        "model.add(tf.keras.layers.Dense(1, activation='sigmoid'))\n",
        "\n",
        "model.summary()\n",
        "\n",
        "model.compile(loss='binary_crossentropy', optimizer='adam', metrics='accuracy')\n",
        "callback = tf.keras.callbacks.EarlyStopping(monitor='val_loss', patience=3)"
      ],
      "metadata": {
        "colab": {
          "base_uri": "https://localhost:8080/"
        },
        "id": "ZPtSnFjKaVPm",
        "outputId": "6a73e1f6-ee98-49fd-84ab-c667c2c999ca"
      },
      "execution_count": 20,
      "outputs": [
        {
          "output_type": "stream",
          "name": "stdout",
          "text": [
            "Model: \"sequential_2\"\n",
            "_________________________________________________________________\n",
            " Layer (type)                Output Shape              Param #   \n",
            "=================================================================\n",
            " embedding_2 (Embedding)     (None, None, 100)         199000    \n",
            "                                                                 \n",
            " bidirectional_2 (Bidirectio  (None, None, 128)        84480     \n",
            " nal)                                                            \n",
            "                                                                 \n",
            " dense_4 (Dense)             (None, None, 64)          8256      \n",
            "                                                                 \n",
            " dropout_2 (Dropout)         (None, None, 64)          0         \n",
            "                                                                 \n",
            " dense_5 (Dense)             (None, None, 1)           65        \n",
            "                                                                 \n",
            "=================================================================\n",
            "Total params: 291,801\n",
            "Trainable params: 291,801\n",
            "Non-trainable params: 0\n",
            "_________________________________________________________________\n"
          ]
        }
      ]
    },
    {
      "cell_type": "markdown",
      "source": [
        "State of the art model here ladies and gentlemen! So good that the loss is negative"
      ],
      "metadata": {
        "id": "CUrwsPMejnj8"
      }
    },
    {
      "cell_type": "code",
      "source": [
        "label_encoding = {\n",
        "  'happy': 0,\n",
        "  'sad':  1,\n",
        "  'angry':  2,\n",
        "  'neutral':  3,\n",
        "  'fear': 4,\n",
        "  'surprise': 5,\n",
        "}\n",
        "\n",
        "max_len = max(df['tokens'].str.len())\n",
        "train_data = []\n",
        "train_label = df[\"category\"].apply(lambda x: label_encoding.get(x)).to_numpy()\n",
        "\n",
        "def prepare_train_data(tokens):\n",
        "  for token in tokens:\n",
        "    token_vector = em_model.get_word_vector(token)\n",
        "    np.append(token_vector, [0] * (max_len - len(token_vector)))\n",
        "\n",
        "  train_data.append(token_vector)\n",
        "\n",
        "df[\"tokens\"].apply(lambda x: prepare_train_data(x))\n",
        "\n",
        "\n",
        "train_data = np.array(train_data)\n",
        "# tf.keras.preprocessing.sequence.pad_sequences(train_data, maxlen=max_len)\n",
        "\n",
        "print(train_data.shape)\n",
        "\n",
        "## TODO: Added padding to train_data before feeding into the model but missing something\n",
        "\n",
        "history = model.fit(train_data, train_label.reshape(-1, 1), batch_size=512, epochs=32, validation_split=0.3, callbacks=[callback])"
      ],
      "metadata": {
        "colab": {
          "base_uri": "https://localhost:8080/"
        },
        "id": "3qYW7itIhRvi",
        "outputId": "6abff428-68ee-4ae6-a226-5af698ac3eef"
      },
      "execution_count": 21,
      "outputs": [
        {
          "output_type": "stream",
          "name": "stdout",
          "text": [
            "(398, 100)\n",
            "Epoch 1/32\n",
            "1/1 [==============================] - 6s 6s/step - loss: 0.6921 - accuracy: 0.2272 - val_loss: 0.6710 - val_accuracy: 0.1417\n",
            "Epoch 2/32\n",
            "1/1 [==============================] - 1s 873ms/step - loss: 0.6830 - accuracy: 0.2230 - val_loss: 0.6416 - val_accuracy: 0.1417\n",
            "Epoch 3/32\n",
            "1/1 [==============================] - 1s 871ms/step - loss: 0.6697 - accuracy: 0.2230 - val_loss: 0.6071 - val_accuracy: 0.1417\n",
            "Epoch 4/32\n",
            "1/1 [==============================] - 1s 874ms/step - loss: 0.6538 - accuracy: 0.2230 - val_loss: 0.5658 - val_accuracy: 0.1417\n",
            "Epoch 5/32\n",
            "1/1 [==============================] - 1s 903ms/step - loss: 0.6354 - accuracy: 0.2230 - val_loss: 0.5142 - val_accuracy: 0.1417\n",
            "Epoch 6/32\n",
            "1/1 [==============================] - 1s 942ms/step - loss: 0.6120 - accuracy: 0.2230 - val_loss: 0.4489 - val_accuracy: 0.1417\n",
            "Epoch 7/32\n",
            "1/1 [==============================] - 1s 864ms/step - loss: 0.5833 - accuracy: 0.2230 - val_loss: 0.3655 - val_accuracy: 0.1417\n",
            "Epoch 8/32\n",
            "1/1 [==============================] - 1s 871ms/step - loss: 0.5465 - accuracy: 0.2230 - val_loss: 0.2566 - val_accuracy: 0.1417\n",
            "Epoch 9/32\n",
            "1/1 [==============================] - 1s 877ms/step - loss: 0.4988 - accuracy: 0.2230 - val_loss: 0.1123 - val_accuracy: 0.1417\n",
            "Epoch 10/32\n",
            "1/1 [==============================] - 1s 860ms/step - loss: 0.4386 - accuracy: 0.2230 - val_loss: -0.0835 - val_accuracy: 0.1417\n",
            "Epoch 11/32\n",
            "1/1 [==============================] - 1s 866ms/step - loss: 0.3580 - accuracy: 0.2230 - val_loss: -0.3566 - val_accuracy: 0.1417\n",
            "Epoch 12/32\n",
            "1/1 [==============================] - 1s 852ms/step - loss: 0.2496 - accuracy: 0.2230 - val_loss: -0.7442 - val_accuracy: 0.1417\n",
            "Epoch 13/32\n",
            "1/1 [==============================] - 1s 875ms/step - loss: 0.1085 - accuracy: 0.2230 - val_loss: -1.2845 - val_accuracy: 0.1417\n",
            "Epoch 14/32\n",
            "1/1 [==============================] - 1s 854ms/step - loss: -0.0744 - accuracy: 0.2230 - val_loss: -1.9953 - val_accuracy: 0.1417\n",
            "Epoch 15/32\n",
            "1/1 [==============================] - 1s 875ms/step - loss: -0.2906 - accuracy: 0.2230 - val_loss: -2.8527 - val_accuracy: 0.1417\n",
            "Epoch 16/32\n",
            "1/1 [==============================] - 1s 861ms/step - loss: -0.5029 - accuracy: 0.2230 - val_loss: -3.7644 - val_accuracy: 0.1417\n",
            "Epoch 17/32\n",
            "1/1 [==============================] - 1s 878ms/step - loss: -0.7045 - accuracy: 0.2230 - val_loss: -4.6490 - val_accuracy: 0.1417\n",
            "Epoch 18/32\n",
            "1/1 [==============================] - 1s 855ms/step - loss: -0.9159 - accuracy: 0.2230 - val_loss: -5.4958 - val_accuracy: 0.1417\n",
            "Epoch 19/32\n",
            "1/1 [==============================] - 1s 921ms/step - loss: -1.0805 - accuracy: 0.2230 - val_loss: -6.3167 - val_accuracy: 0.1417\n",
            "Epoch 20/32\n",
            "1/1 [==============================] - 1s 839ms/step - loss: -1.2571 - accuracy: 0.2230 - val_loss: -7.1243 - val_accuracy: 0.1417\n",
            "Epoch 21/32\n",
            "1/1 [==============================] - 1s 865ms/step - loss: -1.4324 - accuracy: 0.2230 - val_loss: -7.9273 - val_accuracy: 0.1417\n",
            "Epoch 22/32\n",
            "1/1 [==============================] - 1s 850ms/step - loss: -1.5670 - accuracy: 0.2230 - val_loss: -8.7310 - val_accuracy: 0.1417\n",
            "Epoch 23/32\n",
            "1/1 [==============================] - 1s 851ms/step - loss: -1.7426 - accuracy: 0.2230 - val_loss: -9.5393 - val_accuracy: 0.1417\n",
            "Epoch 24/32\n",
            "1/1 [==============================] - 1s 857ms/step - loss: -1.9390 - accuracy: 0.2230 - val_loss: -10.3548 - val_accuracy: 0.1417\n",
            "Epoch 25/32\n",
            "1/1 [==============================] - 1s 862ms/step - loss: -2.0927 - accuracy: 0.2230 - val_loss: -11.1810 - val_accuracy: 0.1417\n",
            "Epoch 26/32\n",
            "1/1 [==============================] - 1s 855ms/step - loss: -2.2214 - accuracy: 0.2230 - val_loss: -12.0182 - val_accuracy: 0.1417\n",
            "Epoch 27/32\n",
            "1/1 [==============================] - 1s 853ms/step - loss: -2.3578 - accuracy: 0.2230 - val_loss: -12.8564 - val_accuracy: 0.1417\n",
            "Epoch 28/32\n",
            "1/1 [==============================] - 1s 909ms/step - loss: -2.5308 - accuracy: 0.2230 - val_loss: -13.6821 - val_accuracy: 0.1417\n",
            "Epoch 29/32\n",
            "1/1 [==============================] - 1s 861ms/step - loss: -2.6357 - accuracy: 0.2230 - val_loss: -14.4564 - val_accuracy: 0.1417\n",
            "Epoch 30/32\n",
            "1/1 [==============================] - 1s 1s/step - loss: -2.7728 - accuracy: 0.2230 - val_loss: -15.1634 - val_accuracy: 0.1417\n",
            "Epoch 31/32\n",
            "1/1 [==============================] - 1s 1s/step - loss: -2.8178 - accuracy: 0.2230 - val_loss: -15.4186 - val_accuracy: 0.1417\n",
            "Epoch 32/32\n",
            "1/1 [==============================] - 1s 1s/step - loss: -2.9380 - accuracy: 0.2230 - val_loss: -15.5388 - val_accuracy: 0.1417\n"
          ]
        }
      ]
    }
  ]
}