{
  "nbformat": 4,
  "nbformat_minor": 0,
  "metadata": {
    "colab": {
      "name": "Untitled0.ipynb",
      "provenance": [],
      "collapsed_sections": []
    },
    "kernelspec": {
      "name": "python3",
      "display_name": "Python 3"
    },
    "language_info": {
      "name": "python"
    },
    "accelerator": "GPU"
  },
  "cells": [
    {
      "cell_type": "code",
      "execution_count": 2,
      "metadata": {
        "id": "gnflaI_5tYr8"
      },
      "outputs": [],
      "source": [
        "import re\n",
        "import pandas as pd\n",
        "import string\n",
        "import json\n",
        "import requests\n",
        "import numpy as np"
      ]
    },
    {
      "cell_type": "code",
      "source": [
        "import numpy as np\n",
        "import pandas as pd\n",
        "import seaborn as sns\n",
        "import matplotlib.pyplot as plt\n",
        "\n",
        "import keras\n",
        "from keras import optimizers, Model\n",
        "from keras import backend as K\n",
        "from keras import regularizers\n",
        "from keras.models import Sequential\n",
        "from keras.layers import Dense, Activation, Dropout, Flatten, SpatialDropout1D, LSTM, Bidirectional, TimeDistributed, Input\n",
        "from keras.layers import Embedding, Conv1D, MaxPooling1D, GlobalMaxPooling1D \n",
        "from keras.utils.vis_utils import plot_model\n",
        "from keras.preprocessing import sequence\n",
        "from keras.preprocessing.text import Tokenizer\n",
        "from keras.callbacks import EarlyStopping\n",
        "\n",
        "from tqdm import tqdm\n",
        "from nltk.corpus import stopwords\n",
        "from nltk.tokenize import RegexpTokenizer \n",
        "import os, re, csv, math, codecs"
      ],
      "metadata": {
        "id": "YeswNA-8tc9-"
      },
      "execution_count": 3,
      "outputs": []
    },
    {
      "cell_type": "code",
      "source": [
        "train_url = \"https://raw.githubusercontent.com/paresh-nayyar/CSCI-544_NLP/master/data/TER_text%26emotions_train.csv?token=GHSAT0AAAAAABTJRLBYVXSOARHMDFFNHTE4YS7SRZQ\"\n",
        "test_url = \"https://raw.githubusercontent.com/paresh-nayyar/CSCI-544_NLP/master/data/TER_text%26emotions_test.csv?token=GHSAT0AAAAAABTJRLBY4RS7EY32FEFPQCAEYS7SRYA\"\n",
        "train_df = pd.read_csv(train_url)\n",
        "test_df = pd.read_csv(test_url)\n",
        "len(train_df),len(test_df)"
      ],
      "metadata": {
        "colab": {
          "base_uri": "https://localhost:8080/"
        },
        "id": "Swe0uPqgtc5L",
        "outputId": "92bea1ac-2e93-448d-dd59-cb68d0e5668b"
      },
      "execution_count": 4,
      "outputs": [
        {
          "output_type": "execute_result",
          "data": {
            "text/plain": [
              "(107754, 26939)"
            ]
          },
          "metadata": {},
          "execution_count": 4
        }
      ]
    },
    {
      "cell_type": "code",
      "source": [
        "from google.colab import drive\n",
        "drive.mount('/content/drive')\n",
        "!ls\n",
        "%cd drive/My Drive/NLP\n"
      ],
      "metadata": {
        "colab": {
          "base_uri": "https://localhost:8080/"
        },
        "id": "Hrk_hXqotc25",
        "outputId": "6a73ae0e-1949-4e34-ff53-08947cb1cd47"
      },
      "execution_count": 5,
      "outputs": [
        {
          "output_type": "stream",
          "name": "stdout",
          "text": [
            "Mounted at /content/drive\n",
            "drive  sample_data\n",
            "/content/drive/My Drive/NLP\n"
          ]
        }
      ]
    },
    {
      "cell_type": "code",
      "source": [
        "from gensim.models import FastText\n",
        "fasttext_url = \"./fasttext_model.model\"\n",
        "embeddings_index = FastText.load(fasttext_url)"
      ],
      "metadata": {
        "id": "OUIG711-tc0p"
      },
      "execution_count": 6,
      "outputs": []
    },
    {
      "cell_type": "code",
      "source": [
        "label_names = ['anger', 'disgust', 'fear', 'happiness', 'sadness', 'surprise']\n",
        "y_train = train_df[label_names].values\n",
        "y_test = test_df[label_names].values\n",
        "\n",
        "train_df['doc_len'] = train_df['tweet'].astype(str).apply(lambda words: len(words.split(\" \")))\n",
        "max_seq_len = np.round(train_df['doc_len'].mean() + train_df['doc_len'].std()).astype(int)\n",
        "#max_seq_len = train_df['doc_len'].max()\n",
        "print(max_seq_len)"
      ],
      "metadata": {
        "id": "REeW0QU2tcyJ",
        "colab": {
          "base_uri": "https://localhost:8080/"
        },
        "outputId": "b68c36b0-9c4f-4b12-bcb1-34e0f3634134"
      },
      "execution_count": 7,
      "outputs": [
        {
          "output_type": "stream",
          "name": "stdout",
          "text": [
            "28\n"
          ]
        }
      ]
    },
    {
      "cell_type": "code",
      "source": [
        "processed_docs_train = train_df['tweet'].astype(str).tolist()\n",
        "processed_docs_test = test_df['tweet'].astype(str).tolist() \n",
        "num_classes = len(label_names)"
      ],
      "metadata": {
        "id": "u_kQ9y2htcvk"
      },
      "execution_count": 8,
      "outputs": []
    },
    {
      "cell_type": "code",
      "source": [
        "MAX_NB_WORDS = 200000"
      ],
      "metadata": {
        "id": "cGV5PVtHtcs9"
      },
      "execution_count": 9,
      "outputs": []
    },
    {
      "cell_type": "code",
      "source": [
        "print(\"tokenizing input data...\")\n",
        "tokenizer = Tokenizer(num_words=MAX_NB_WORDS, lower=True, char_level=False)\n",
        "total_docs=[]\n",
        "total_docs.extend(processed_docs_train)\n",
        "total_docs.extend(processed_docs_test)\n",
        "#tokenizer.fit_on_texts(processed_docs_train + processed_docs_test)  #leaky\n",
        "tokenizer.fit_on_texts(total_docs)\n",
        "word_seq_train = tokenizer.texts_to_sequences(processed_docs_train)\n",
        "#print(word_seq_train)\n",
        "word_seq_test = tokenizer.texts_to_sequences(processed_docs_test)\n",
        "word_index = tokenizer.word_index\n",
        "print(len(word_index))\n",
        "print(\"dictionary size: \", len(word_index))\n",
        "\n",
        "#pad sequences\n",
        "word_seq_train = sequence.pad_sequences(word_seq_train, maxlen=max_seq_len)\n",
        "print(word_seq_train[2])\n",
        "word_seq_test = sequence.pad_sequences(word_seq_test, maxlen=max_seq_len)"
      ],
      "metadata": {
        "id": "5UZLmvh5tckB",
        "colab": {
          "base_uri": "https://localhost:8080/"
        },
        "outputId": "cf8a996e-89c9-4491-b768-baf686d4017e"
      },
      "execution_count": 23,
      "outputs": [
        {
          "output_type": "stream",
          "name": "stdout",
          "text": [
            "tokenizing input data...\n",
            "235929\n",
            "dictionary size:  235929\n",
            "[   59    92 10454     8    26    13    56   618    53    14  9069     8\n",
            "   144    13    56 34369    45   405 72835  3975   618    53    10  6391\n",
            "     8    26    13    56]\n"
          ]
        }
      ]
    },
    {
      "cell_type": "code",
      "source": [
        "#training params\n",
        "batch_size = 64\n",
        "num_epochs = 8 \n",
        "\n",
        "#model parameters\n",
        "num_filters = 128 \n",
        "num_kernels=200\n",
        "stride=1\n",
        "embed_dim = 300\n",
        "weight_decay = 1e-4\n",
        "\n",
        "#parallel layers \n",
        "kernel_size=7\n",
        "kernel_size_p1=3\n",
        "kernel_size_p2=6\n",
        "kernel_size_p3=9\n",
        "kernel_size_p4=12"
      ],
      "metadata": {
        "id": "fKEdzcyTt3Xb"
      },
      "execution_count": 11,
      "outputs": []
    },
    {
      "cell_type": "code",
      "source": [
        "#embedding matrix\n",
        "print('preparing embedding matrix...')\n",
        "words_not_found = []\n",
        "nb_words = min(MAX_NB_WORDS, len(word_index))\n",
        "embedding_matrix = np.zeros((nb_words, embed_dim))\n",
        "for word, i in word_index.items():\n",
        "    if i >= nb_words:\n",
        "        continue\n",
        "    #print(word)\n",
        "\n",
        "    if embeddings_index.wv.__contains__(word): \n",
        "\n",
        "        embedding_vector = embeddings_index.wv[word]\n",
        "    \n",
        "        embedding_matrix[i] = embedding_vector\n",
        "    else:\n",
        "        words_not_found.append(word)\n",
        "#print(embedding_matrix)\n",
        "print('number of null word embeddings: %d' % np.sum(np.sum(embedding_matrix, axis=1) == 0))"
      ],
      "metadata": {
        "id": "4H6RWtJ8t3S3",
        "colab": {
          "base_uri": "https://localhost:8080/"
        },
        "outputId": "f3b51e3c-a109-467e-c0ad-f3218a81f3e8"
      },
      "execution_count": 12,
      "outputs": [
        {
          "output_type": "stream",
          "name": "stdout",
          "text": [
            "preparing embedding matrix...\n",
            "number of null word embeddings: 1\n"
          ]
        }
      ]
    },
    {
      "cell_type": "code",
      "source": [
        "print(len(embedding_matrix[34]))\n",
        "print(words_not_found)"
      ],
      "metadata": {
        "id": "YEkmR1hmt3Q0",
        "colab": {
          "base_uri": "https://localhost:8080/"
        },
        "outputId": "0df1c2fa-20d9-4f1b-f63f-38775f1bb156"
      },
      "execution_count": 13,
      "outputs": [
        {
          "output_type": "stream",
          "name": "stdout",
          "text": [
            "300\n",
            "[]\n"
          ]
        }
      ]
    },
    {
      "cell_type": "code",
      "source": [
        "#LSTM Params\n",
        "\n",
        "lstm_out1 = 150\n",
        "bilstm_out1 = 96\n",
        "lstm_out2 = 32\n",
        "dropout = 0.2\n",
        "recurrent_dropout = 0.2"
      ],
      "metadata": {
        "id": "Gj3sUltJzUJu"
      },
      "execution_count": 14,
      "outputs": []
    },
    {
      "cell_type": "code",
      "source": [
        "def get_bilstm():\n",
        "  inputt = Input(shape=(max_seq_len,))\n",
        "  model = Embedding(nb_words, embed_dim,weights=[embedding_matrix],input_length=max_seq_len, trainable = False)(inputt)\n",
        "  model =  Bidirectional (LSTM (lstm_out1, return_sequences=True, recurrent_dropout = 0.2, dropout = 0.2 ), merge_mode='concat')(model)\n",
        "  model = TimeDistributed(Dense(10,activation='relu'))(model)\n",
        "  model = Flatten()(model)\n",
        "  model = Dense(64,activation='relu')(model)\n",
        "  output = Dense(num_classes,activation='sigmoid')(model)\n",
        "  model = Model(inputt,output)\n",
        "  model.compile(loss='categorical_crossentropy',optimizer='adam', metrics=['accuracy'])\n",
        "  model.summary()\n",
        "  return model"
      ],
      "metadata": {
        "id": "xuE_QqmfzE9m"
      },
      "execution_count": 15,
      "outputs": []
    },
    {
      "cell_type": "code",
      "source": [
        "def get_lstm():\n",
        "  model = Sequential()\n",
        "  model.add(Embedding(nb_words, embed_dim,\n",
        "            weights=[embedding_matrix], input_length=max_seq_len, trainable=False))\n",
        "  model.add(LSTM(lstm_out1, recurrent_dropout = 0.2, dropout = 0.2))\n",
        "  #model.add(MaxPooling1D(2))\n",
        "  model.add(Dense(64, activation='relu'))\n",
        "\n",
        "  model.add(Dense(num_classes, activation='sigmoid'))\n",
        "  model.compile(loss='categorical_crossentropy',\n",
        "                    optimizer='adam',\n",
        "                    metrics=['accuracy'])\n",
        "\n",
        "  model.summary()\n",
        "  return model"
      ],
      "metadata": {
        "id": "gkn8PTb4zErq"
      },
      "execution_count": 16,
      "outputs": []
    },
    {
      "cell_type": "code",
      "source": [
        "import matplotlib.pyplot as plt\n",
        "def plotAcc(history):\n",
        "  plt.plot(history.history['accuracy'])\n",
        "  plt.plot(history.history['val_accuracy'])\n",
        "  plt.title('Model accuracy')\n",
        "  plt.ylabel('accuracy')\n",
        "  plt.xlabel('epoch')\n",
        "  plt.legend(['train', 'val'], loc='upper left')\n",
        "  plt.show()\n",
        "\n",
        "def plotLoss(history):\n",
        "  plt.plot(history.history['loss'])\n",
        "  plt.plot(history.history['val_loss'])\n",
        "  plt.title('Model loss')\n",
        "  plt.ylabel('loss')\n",
        "  plt.xlabel('epoch')\n",
        "  plt.legend(['train', 'val'], loc='upper left')\n",
        "  plt.show()"
      ],
      "metadata": {
        "id": "TOcMHY9wt3L4"
      },
      "execution_count": 17,
      "outputs": []
    },
    {
      "cell_type": "code",
      "source": [
        "def accuracy(model,test,y_test):\n",
        "  predictions = model.predict(test)\n",
        "  pred_labels = np.argmax(predictions, axis=1)\n",
        "  y_test_labels = [np.where(x==1)[0][0] for x in y_test]\n",
        "  print(np.sum(y_test_labels == pred_labels)/len(pred_labels))"
      ],
      "metadata": {
        "id": "dgtyr_mDt3CH"
      },
      "execution_count": 18,
      "outputs": []
    },
    {
      "cell_type": "code",
      "source": [
        "model = get_lstm()\n",
        "\n",
        "history = model.fit(word_seq_train, y_train, batch_size=batch_size, \n",
        "                    epochs=num_epochs, validation_split=0.1, shuffle=True, verbose = 1)\n",
        "predictions = model.predict(word_seq_test)\n",
        "pred_labels = np.argmax(predictions, axis=1)\n",
        "y_test = test_df[label_names].values\n",
        "\n",
        "y_test_labels = [np.where(x==1)[0][0] for x in y_test]\n",
        "\n",
        "print(np.sum(y_test_labels == pred_labels)/len(pred_labels))\n",
        "\n",
        "plotLoss(history)\n",
        "plotAcc(history)\n"
      ],
      "metadata": {
        "id": "_myl76bWt3G7",
        "colab": {
          "base_uri": "https://localhost:8080/",
          "height": 1000
        },
        "outputId": "ed36d280-4c82-4f1b-86d7-a4399dbe6dfa"
      },
      "execution_count": 21,
      "outputs": [
        {
          "output_type": "stream",
          "name": "stdout",
          "text": [
            "WARNING:tensorflow:Layer lstm will not use cuDNN kernels since it doesn't meet the criteria. It will use a generic GPU kernel as fallback when running on GPU.\n",
            "Model: \"sequential\"\n",
            "_________________________________________________________________\n",
            " Layer (type)                Output Shape              Param #   \n",
            "=================================================================\n",
            " embedding (Embedding)       (None, 28, 300)           60000000  \n",
            "                                                                 \n",
            " lstm (LSTM)                 (None, 150)               270600    \n",
            "                                                                 \n",
            " dense (Dense)               (None, 64)                9664      \n",
            "                                                                 \n",
            " dense_1 (Dense)             (None, 6)                 390       \n",
            "                                                                 \n",
            "=================================================================\n",
            "Total params: 60,280,654\n",
            "Trainable params: 280,654\n",
            "Non-trainable params: 60,000,000\n",
            "_________________________________________________________________\n",
            "Epoch 1/8\n",
            "1516/1516 [==============================] - 376s 240ms/step - loss: 0.1434 - accuracy: 0.9528 - val_loss: 0.0990 - val_accuracy: 0.9659\n",
            "Epoch 2/8\n",
            "1516/1516 [==============================] - 338s 223ms/step - loss: 0.0794 - accuracy: 0.9736 - val_loss: 0.0889 - val_accuracy: 0.9708\n",
            "Epoch 3/8\n",
            "1516/1516 [==============================] - 340s 224ms/step - loss: 0.0703 - accuracy: 0.9764 - val_loss: 0.0844 - val_accuracy: 0.9721\n",
            "Epoch 4/8\n",
            "1516/1516 [==============================] - 332s 219ms/step - loss: 0.0634 - accuracy: 0.9786 - val_loss: 0.0878 - val_accuracy: 0.9721\n",
            "Epoch 5/8\n",
            "1516/1516 [==============================] - 367s 242ms/step - loss: 0.0580 - accuracy: 0.9800 - val_loss: 0.0886 - val_accuracy: 0.9717\n",
            "Epoch 6/8\n",
            "1516/1516 [==============================] - 360s 238ms/step - loss: 0.0525 - accuracy: 0.9820 - val_loss: 0.0884 - val_accuracy: 0.9727\n",
            "Epoch 7/8\n",
            "1516/1516 [==============================] - 367s 242ms/step - loss: 0.0475 - accuracy: 0.9835 - val_loss: 0.0931 - val_accuracy: 0.9712\n",
            "Epoch 8/8\n",
            "1516/1516 [==============================] - 345s 228ms/step - loss: 0.0434 - accuracy: 0.9849 - val_loss: 0.0958 - val_accuracy: 0.9719\n",
            "0.9608745684695051\n"
          ]
        },
        {
          "output_type": "display_data",
          "data": {
            "text/plain": [
              "<Figure size 432x288 with 1 Axes>"
            ],
            "image/png": "[encoded data removed]"
          },
          "metadata": {
            "needs_background": "light"
          }
        },
        {
          "output_type": "display_data",
          "data": {
            "text/plain": [
              "<Figure size 432x288 with 1 Axes>"
            ],
            "image/png": "[encoded data removed]"
          },
          "metadata": {
            "needs_background": "light"
          }
        }
      ]
    },
    {
      "cell_type": "code",
      "source": [
        "model = get_bilstm()\n",
        "history = model.fit(word_seq_train, y_train, batch_size=batch_size, \n",
        "                    epochs=8, validation_split=0.1, shuffle=True, verbose = 1)\n",
        "predictions = model.predict(word_seq_test)\n",
        "# pred_labels = np.argmax(predictions, axis=1)\n",
        "# y_test = test_df[label_names].values\n",
        "# accuracy(word_seq_test,)\n",
        "# y_test_labels = [np.where(x==1)[0][0] for x in y_test]\n",
        "\n",
        "# print(np.sum(y_test_labels == pred_labels)/len(pred_labels))\n",
        "plotLoss(history)\n",
        "plotAcc(history)"
      ],
      "metadata": {
        "id": "6R4AdIb-t3Jh",
        "colab": {
          "base_uri": "https://localhost:8080/",
          "height": 1000
        },
        "outputId": "5898ee08-5197-4e83-f5cc-ce24497501b6"
      },
      "execution_count": 24,
      "outputs": [
        {
          "output_type": "stream",
          "name": "stdout",
          "text": [
            "Model: \"model_4\"\n",
            "_________________________________________________________________\n",
            " Layer (type)                Output Shape              Param #   \n",
            "=================================================================\n",
            " input_5 (InputLayer)        [(None, 28)]              0         \n",
            "                                                                 \n",
            " embedding_4 (Embedding)     (None, 28, 300)           60000000  \n",
            "                                                                 \n",
            " bidirectional_4 (Bidirectio  (None, 28, 300)          541200    \n",
            " nal)                                                            \n",
            "                                                                 \n",
            " time_distributed_4 (TimeDis  (None, 28, 10)           3010      \n",
            " tributed)                                                       \n",
            "                                                                 \n",
            " flatten_4 (Flatten)         (None, 280)               0         \n",
            "                                                                 \n",
            " dense_13 (Dense)            (None, 64)                17984     \n",
            "                                                                 \n",
            " dense_14 (Dense)            (None, 6)                 390       \n",
            "                                                                 \n",
            "=================================================================\n",
            "Total params: 60,562,584\n",
            "Trainable params: 562,584\n",
            "Non-trainable params: 60,000,000\n",
            "_________________________________________________________________\n",
            "Epoch 1/8\n",
            "1516/1516 [==============================] - 574s 375ms/step - loss: 0.1566 - accuracy: 0.9482 - val_loss: 0.1010 - val_accuracy: 0.9678\n",
            "Epoch 2/8\n",
            "1516/1516 [==============================] - 564s 372ms/step - loss: 0.0816 - accuracy: 0.9735 - val_loss: 0.0936 - val_accuracy: 0.9703\n",
            "Epoch 3/8\n",
            "1516/1516 [==============================] - 560s 370ms/step - loss: 0.0713 - accuracy: 0.9763 - val_loss: 0.0869 - val_accuracy: 0.9714\n",
            "Epoch 4/8\n",
            "1516/1516 [==============================] - 563s 372ms/step - loss: 0.0639 - accuracy: 0.9786 - val_loss: 0.0878 - val_accuracy: 0.9716\n",
            "Epoch 5/8\n",
            "1516/1516 [==============================] - 563s 371ms/step - loss: 0.0578 - accuracy: 0.9804 - val_loss: 0.0894 - val_accuracy: 0.9712\n",
            "Epoch 6/8\n",
            "1516/1516 [==============================] - 561s 370ms/step - loss: 0.0513 - accuracy: 0.9818 - val_loss: 0.0947 - val_accuracy: 0.9714\n",
            "Epoch 7/8\n",
            "1516/1516 [==============================] - 561s 370ms/step - loss: 0.0454 - accuracy: 0.9840 - val_loss: 0.0947 - val_accuracy: 0.9708\n",
            "Epoch 8/8\n",
            "1516/1516 [==============================] - 566s 373ms/step - loss: 0.0423 - accuracy: 0.9852 - val_loss: 0.0983 - val_accuracy: 0.9719\n"
          ]
        },
        {
          "output_type": "display_data",
          "data": {
            "text/plain": [
              "<Figure size 432x288 with 1 Axes>"
            ],
            "image/png": "[encoded data removed]"
          },
          "metadata": {
            "needs_background": "light"
          }
        },
        {
          "output_type": "display_data",
          "data": {
            "text/plain": [
              "<Figure size 432x288 with 1 Axes>"
            ],
            "image/png": "[encoded data removed]"
          },
          "metadata": {
            "needs_background": "light"
          }
        }
      ]
    }
  ]
}