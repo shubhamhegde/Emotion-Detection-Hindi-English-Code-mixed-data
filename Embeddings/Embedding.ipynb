{
  "nbformat": 4,
  "nbformat_minor": 0,
  "metadata": {
    "colab": {
      "name": "Embedding.ipynb",
      "provenance": [],
      "authorship_tag": "ABX9TyNpZj76/Jsy8TPfr3UCIoIg",
      "include_colab_link": true
    },
    "kernelspec": {
      "name": "python3",
      "display_name": "Python 3"
    },
    "language_info": {
      "name": "python"
    }
  },
  "cells": [
    {
      "cell_type": "markdown",
      "metadata": {
        "id": "view-in-github",
        "colab_type": "text"
      },
      "source": [
        "<a href=\"https://colab.research.google.com/github/paresh-nayyar/CSCI-544_NLP/blob/master/Embedding.ipynb\" target=\"_parent\"><img src=\"https://colab.research.google.com/assets/colab-badge.svg\" alt=\"Open In Colab\"/></a>"
      ]
    },
    {
      "cell_type": "markdown",
      "source": [
        "This notebook is for training fastText and word2Vec on our dataset"
      ],
      "metadata": {
        "id": "9niAq10Q61mY"
      }
    },
    {
      "cell_type": "code",
      "source": [
        "import re\n",
        "import pandas as pd\n",
        "import string\n",
        "import json\n",
        "import requests"
      ],
      "metadata": {
        "id": "Q15c9rhoLu7W"
      },
      "execution_count": 25,
      "outputs": []
    },
    {
      "cell_type": "code",
      "source": [
        "#Reading the data\n",
        "url = \"https://raw.githubusercontent.com/paresh-nayyar/CSCI-544_NLP/master/tweet_data.json?token=GHSAT0AAAAAABTMFR3GO542Q2OWFMQHT7F2YSXEKOQ\"\n",
        "url = requests.get(url)\n",
        "text = url.text\n",
        "data = json.loads(text)\n",
        "df = pd.DataFrame(list(data.items()), columns=['tweetID', 'tweet'])\n",
        "print(df.head(5))\n",
        "print(df.shape)"
      ],
      "metadata": {
        "id": "t5b9l_GoQYSB",
        "outputId": "15cf1de6-1632-4ad3-c629-798499776601",
        "colab": {
          "base_uri": "https://localhost:8080/"
        }
      },
      "execution_count": 26,
      "outputs": [
        {
          "output_type": "stream",
          "name": "stdout",
          "text": [
            "     tweetID                                              tweet\n",
            "0      46149  DON ko11mulko ki police sMs kar rahi hai par D...\n",
            "1   40317002  khushi ki talaash me sabhi haiyn. kya maiyn au...\n",
            "2   40319032  Are dostoin aao aur apne thoughts share karo. ...\n",
            "3  308624342  Na tum aa sako gay na phir baat hogi, Yeh kais...\n",
            "4  596311632  meethe gud me mil gaye til:)\\nudi patang aur k...\n",
            "(134693, 2)\n"
          ]
        }
      ]
    },
    {
      "cell_type": "code",
      "source": [
        "#Basic Preprocessing\n",
        "def cleanSentence(sentence):\n",
        "  sentence = sentence.lower()\n",
        "  sentence = sentence.rstrip().replace(\"\\n\",\" \").replace(\"\\r\",\" \")\n",
        "  sentence = re.sub(' +', ' ', sentence)\n",
        "  sentence = sentence.translate(str.maketrans('', '', string.punctuation))\n",
        "  return sentence\n",
        "\n",
        "df[\"tweet\"]= df['tweet'].apply(lambda x : cleanSentence(x))\n",
        "df.head()"
      ],
      "metadata": {
        "id": "HF_5YliYMl-a",
        "outputId": "edb6331d-b891-49e3-ad59-c5e48f2a5d7b",
        "colab": {
          "base_uri": "https://localhost:8080/",
          "height": 206
        }
      },
      "execution_count": 27,
      "outputs": [
        {
          "output_type": "execute_result",
          "data": {
            "text/plain": [
              "     tweetID                                              tweet\n",
              "0      46149  don ko11mulko ki police sms kar rahi hai par d...\n",
              "1   40317002  khushi ki talaash me sabhi haiyn kya maiyn aur...\n",
              "2   40319032  are dostoin aao aur apne thoughts share karo l...\n",
              "3  308624342  na tum aa sako gay na phir baat hogi yeh kaisi...\n",
              "4  596311632  meethe gud me mil gaye til udi patang aur khil..."
            ],
            "text/html": [
              "\n",
              "  <div id=\"df-86ae37de-9344-4993-906f-28f6a901133c\">\n",
              "    <div class=\"colab-df-container\">\n",
              "      <div>\n",
              "<style scoped>\n",
              "    .dataframe tbody tr th:only-of-type {\n",
              "        vertical-align: middle;\n",
              "    }\n",
              "\n",
              "    .dataframe tbody tr th {\n",
              "        vertical-align: top;\n",
              "    }\n",
              "\n",
              "    .dataframe thead th {\n",
              "        text-align: right;\n",
              "    }\n",
              "</style>\n",
              "<table border=\"1\" class=\"dataframe\">\n",
              "  <thead>\n",
              "    <tr style=\"text-align: right;\">\n",
              "      <th></th>\n",
              "      <th>tweetID</th>\n",
              "      <th>tweet</th>\n",
              "    </tr>\n",
              "  </thead>\n",
              "  <tbody>\n",
              "    <tr>\n",
              "      <th>0</th>\n",
              "      <td>46149</td>\n",
              "      <td>don ko11mulko ki police sms kar rahi hai par d...</td>\n",
              "    </tr>\n",
              "    <tr>\n",
              "      <th>1</th>\n",
              "      <td>40317002</td>\n",
              "      <td>khushi ki talaash me sabhi haiyn kya maiyn aur...</td>\n",
              "    </tr>\n",
              "    <tr>\n",
              "      <th>2</th>\n",
              "      <td>40319032</td>\n",
              "      <td>are dostoin aao aur apne thoughts share karo l...</td>\n",
              "    </tr>\n",
              "    <tr>\n",
              "      <th>3</th>\n",
              "      <td>308624342</td>\n",
              "      <td>na tum aa sako gay na phir baat hogi yeh kaisi...</td>\n",
              "    </tr>\n",
              "    <tr>\n",
              "      <th>4</th>\n",
              "      <td>596311632</td>\n",
              "      <td>meethe gud me mil gaye til udi patang aur khil...</td>\n",
              "    </tr>\n",
              "  </tbody>\n",
              "</table>\n",
              "</div>\n",
              "      <button class=\"colab-df-convert\" onclick=\"convertToInteractive('df-86ae37de-9344-4993-906f-28f6a901133c')\"\n",
              "              title=\"Convert this dataframe to an interactive table.\"\n",
              "              style=\"display:none;\">\n",
              "        \n",
              "  <svg xmlns=\"http://www.w3.org/2000/svg\" height=\"24px\"viewBox=\"0 0 24 24\"\n",
              "       width=\"24px\">\n",
              "    <path d=\"M0 0h24v24H0V0z\" fill=\"none\"/>\n",
              "    <path d=\"M18.56 5.44l.94 2.06.94-2.06 2.06-.94-2.06-.94-.94-2.06-.94 2.06-2.06.94zm-11 1L8.5 8.5l.94-2.06 2.06-.94-2.06-.94L8.5 2.5l-.94 2.06-2.06.94zm10 10l.94 2.06.94-2.06 2.06-.94-2.06-.94-.94-2.06-.94 2.06-2.06.94z\"/><path d=\"M17.41 7.96l-1.37-1.37c-.4-.4-.92-.59-1.43-.59-.52 0-1.04.2-1.43.59L10.3 9.45l-7.72 7.72c-.78.78-.78 2.05 0 2.83L4 21.41c.39.39.9.59 1.41.59.51 0 1.02-.2 1.41-.59l7.78-7.78 2.81-2.81c.8-.78.8-2.07 0-2.86zM5.41 20L4 18.59l7.72-7.72 1.47 1.35L5.41 20z\"/>\n",
              "  </svg>\n",
              "      </button>\n",
              "      \n",
              "  <style>\n",
              "    .colab-df-container {\n",
              "      display:flex;\n",
              "      flex-wrap:wrap;\n",
              "      gap: 12px;\n",
              "    }\n",
              "\n",
              "    .colab-df-convert {\n",
              "      background-color: #E8F0FE;\n",
              "      border: none;\n",
              "      border-radius: 50%;\n",
              "      cursor: pointer;\n",
              "      display: none;\n",
              "      fill: #1967D2;\n",
              "      height: 32px;\n",
              "      padding: 0 0 0 0;\n",
              "      width: 32px;\n",
              "    }\n",
              "\n",
              "    .colab-df-convert:hover {\n",
              "      background-color: #E2EBFA;\n",
              "      box-shadow: 0px 1px 2px rgba(60, 64, 67, 0.3), 0px 1px 3px 1px rgba(60, 64, 67, 0.15);\n",
              "      fill: #174EA6;\n",
              "    }\n",
              "\n",
              "    [theme=dark] .colab-df-convert {\n",
              "      background-color: #3B4455;\n",
              "      fill: #D2E3FC;\n",
              "    }\n",
              "\n",
              "    [theme=dark] .colab-df-convert:hover {\n",
              "      background-color: #434B5C;\n",
              "      box-shadow: 0px 1px 3px 1px rgba(0, 0, 0, 0.15);\n",
              "      filter: drop-shadow(0px 1px 2px rgba(0, 0, 0, 0.3));\n",
              "      fill: #FFFFFF;\n",
              "    }\n",
              "  </style>\n",
              "\n",
              "      <script>\n",
              "        const buttonEl =\n",
              "          document.querySelector('#df-86ae37de-9344-4993-906f-28f6a901133c button.colab-df-convert');\n",
              "        buttonEl.style.display =\n",
              "          google.colab.kernel.accessAllowed ? 'block' : 'none';\n",
              "\n",
              "        async function convertToInteractive(key) {\n",
              "          const element = document.querySelector('#df-86ae37de-9344-4993-906f-28f6a901133c');\n",
              "          const dataTable =\n",
              "            await google.colab.kernel.invokeFunction('convertToInteractive',\n",
              "                                                     [key], {});\n",
              "          if (!dataTable) return;\n",
              "\n",
              "          const docLinkHtml = 'Like what you see? Visit the ' +\n",
              "            '<a target=\"_blank\" href=https://colab.research.google.com/notebooks/data_table.ipynb>data table notebook</a>'\n",
              "            + ' to learn more about interactive tables.';\n",
              "          element.innerHTML = '';\n",
              "          dataTable['output_type'] = 'display_data';\n",
              "          await google.colab.output.renderOutput(dataTable, element);\n",
              "          const docLink = document.createElement('div');\n",
              "          docLink.innerHTML = docLinkHtml;\n",
              "          element.appendChild(docLink);\n",
              "        }\n",
              "      </script>\n",
              "    </div>\n",
              "  </div>\n",
              "  "
            ]
          },
          "metadata": {},
          "execution_count": 27
        }
      ]
    },
    {
      "cell_type": "code",
      "source": [
        "#tokenizing\n",
        "def tokenize(sentence):\n",
        "  tokens = sentence.split(\" \")\n",
        "  tokens = [x for x in tokens if len(x)>0]\n",
        "  return tokens\n",
        "\n",
        "df[\"tokens\"] = df[\"tweet\"].apply(lambda x : tokenize(x))\n",
        "df.head()"
      ],
      "metadata": {
        "id": "ayLocuZyTB1n",
        "outputId": "fbb4fbe5-9543-416a-f88e-e18bed1d0dff",
        "colab": {
          "base_uri": "https://localhost:8080/",
          "height": 206
        }
      },
      "execution_count": 28,
      "outputs": [
        {
          "output_type": "execute_result",
          "data": {
            "text/plain": [
              "     tweetID                                              tweet  \\\n",
              "0      46149  don ko11mulko ki police sms kar rahi hai par d...   \n",
              "1   40317002  khushi ki talaash me sabhi haiyn kya maiyn aur...   \n",
              "2   40319032  are dostoin aao aur apne thoughts share karo l...   \n",
              "3  308624342  na tum aa sako gay na phir baat hogi yeh kaisi...   \n",
              "4  596311632  meethe gud me mil gaye til udi patang aur khil...   \n",
              "\n",
              "                                              tokens  \n",
              "0  [don, ko11mulko, ki, police, sms, kar, rahi, h...  \n",
              "1  [khushi, ki, talaash, me, sabhi, haiyn, kya, m...  \n",
              "2  [are, dostoin, aao, aur, apne, thoughts, share...  \n",
              "3  [na, tum, aa, sako, gay, na, phir, baat, hogi,...  \n",
              "4  [meethe, gud, me, mil, gaye, til, udi, patang,...  "
            ],
            "text/html": [
              "\n",
              "  <div id=\"df-8ad89810-80c5-402d-a4ca-fbcc62876e79\">\n",
              "    <div class=\"colab-df-container\">\n",
              "      <div>\n",
              "<style scoped>\n",
              "    .dataframe tbody tr th:only-of-type {\n",
              "        vertical-align: middle;\n",
              "    }\n",
              "\n",
              "    .dataframe tbody tr th {\n",
              "        vertical-align: top;\n",
              "    }\n",
              "\n",
              "    .dataframe thead th {\n",
              "        text-align: right;\n",
              "    }\n",
              "</style>\n",
              "<table border=\"1\" class=\"dataframe\">\n",
              "  <thead>\n",
              "    <tr style=\"text-align: right;\">\n",
              "      <th></th>\n",
              "      <th>tweetID</th>\n",
              "      <th>tweet</th>\n",
              "      <th>tokens</th>\n",
              "    </tr>\n",
              "  </thead>\n",
              "  <tbody>\n",
              "    <tr>\n",
              "      <th>0</th>\n",
              "      <td>46149</td>\n",
              "      <td>don ko11mulko ki police sms kar rahi hai par d...</td>\n",
              "      <td>[don, ko11mulko, ki, police, sms, kar, rahi, h...</td>\n",
              "    </tr>\n",
              "    <tr>\n",
              "      <th>1</th>\n",
              "      <td>40317002</td>\n",
              "      <td>khushi ki talaash me sabhi haiyn kya maiyn aur...</td>\n",
              "      <td>[khushi, ki, talaash, me, sabhi, haiyn, kya, m...</td>\n",
              "    </tr>\n",
              "    <tr>\n",
              "      <th>2</th>\n",
              "      <td>40319032</td>\n",
              "      <td>are dostoin aao aur apne thoughts share karo l...</td>\n",
              "      <td>[are, dostoin, aao, aur, apne, thoughts, share...</td>\n",
              "    </tr>\n",
              "    <tr>\n",
              "      <th>3</th>\n",
              "      <td>308624342</td>\n",
              "      <td>na tum aa sako gay na phir baat hogi yeh kaisi...</td>\n",
              "      <td>[na, tum, aa, sako, gay, na, phir, baat, hogi,...</td>\n",
              "    </tr>\n",
              "    <tr>\n",
              "      <th>4</th>\n",
              "      <td>596311632</td>\n",
              "      <td>meethe gud me mil gaye til udi patang aur khil...</td>\n",
              "      <td>[meethe, gud, me, mil, gaye, til, udi, patang,...</td>\n",
              "    </tr>\n",
              "  </tbody>\n",
              "</table>\n",
              "</div>\n",
              "      <button class=\"colab-df-convert\" onclick=\"convertToInteractive('df-8ad89810-80c5-402d-a4ca-fbcc62876e79')\"\n",
              "              title=\"Convert this dataframe to an interactive table.\"\n",
              "              style=\"display:none;\">\n",
              "        \n",
              "  <svg xmlns=\"http://www.w3.org/2000/svg\" height=\"24px\"viewBox=\"0 0 24 24\"\n",
              "       width=\"24px\">\n",
              "    <path d=\"M0 0h24v24H0V0z\" fill=\"none\"/>\n",
              "    <path d=\"M18.56 5.44l.94 2.06.94-2.06 2.06-.94-2.06-.94-.94-2.06-.94 2.06-2.06.94zm-11 1L8.5 8.5l.94-2.06 2.06-.94-2.06-.94L8.5 2.5l-.94 2.06-2.06.94zm10 10l.94 2.06.94-2.06 2.06-.94-2.06-.94-.94-2.06-.94 2.06-2.06.94z\"/><path d=\"M17.41 7.96l-1.37-1.37c-.4-.4-.92-.59-1.43-.59-.52 0-1.04.2-1.43.59L10.3 9.45l-7.72 7.72c-.78.78-.78 2.05 0 2.83L4 21.41c.39.39.9.59 1.41.59.51 0 1.02-.2 1.41-.59l7.78-7.78 2.81-2.81c.8-.78.8-2.07 0-2.86zM5.41 20L4 18.59l7.72-7.72 1.47 1.35L5.41 20z\"/>\n",
              "  </svg>\n",
              "      </button>\n",
              "      \n",
              "  <style>\n",
              "    .colab-df-container {\n",
              "      display:flex;\n",
              "      flex-wrap:wrap;\n",
              "      gap: 12px;\n",
              "    }\n",
              "\n",
              "    .colab-df-convert {\n",
              "      background-color: #E8F0FE;\n",
              "      border: none;\n",
              "      border-radius: 50%;\n",
              "      cursor: pointer;\n",
              "      display: none;\n",
              "      fill: #1967D2;\n",
              "      height: 32px;\n",
              "      padding: 0 0 0 0;\n",
              "      width: 32px;\n",
              "    }\n",
              "\n",
              "    .colab-df-convert:hover {\n",
              "      background-color: #E2EBFA;\n",
              "      box-shadow: 0px 1px 2px rgba(60, 64, 67, 0.3), 0px 1px 3px 1px rgba(60, 64, 67, 0.15);\n",
              "      fill: #174EA6;\n",
              "    }\n",
              "\n",
              "    [theme=dark] .colab-df-convert {\n",
              "      background-color: #3B4455;\n",
              "      fill: #D2E3FC;\n",
              "    }\n",
              "\n",
              "    [theme=dark] .colab-df-convert:hover {\n",
              "      background-color: #434B5C;\n",
              "      box-shadow: 0px 1px 3px 1px rgba(0, 0, 0, 0.15);\n",
              "      filter: drop-shadow(0px 1px 2px rgba(0, 0, 0, 0.3));\n",
              "      fill: #FFFFFF;\n",
              "    }\n",
              "  </style>\n",
              "\n",
              "      <script>\n",
              "        const buttonEl =\n",
              "          document.querySelector('#df-8ad89810-80c5-402d-a4ca-fbcc62876e79 button.colab-df-convert');\n",
              "        buttonEl.style.display =\n",
              "          google.colab.kernel.accessAllowed ? 'block' : 'none';\n",
              "\n",
              "        async function convertToInteractive(key) {\n",
              "          const element = document.querySelector('#df-8ad89810-80c5-402d-a4ca-fbcc62876e79');\n",
              "          const dataTable =\n",
              "            await google.colab.kernel.invokeFunction('convertToInteractive',\n",
              "                                                     [key], {});\n",
              "          if (!dataTable) return;\n",
              "\n",
              "          const docLinkHtml = 'Like what you see? Visit the ' +\n",
              "            '<a target=\"_blank\" href=https://colab.research.google.com/notebooks/data_table.ipynb>data table notebook</a>'\n",
              "            + ' to learn more about interactive tables.';\n",
              "          element.innerHTML = '';\n",
              "          dataTable['output_type'] = 'display_data';\n",
              "          await google.colab.output.renderOutput(dataTable, element);\n",
              "          const docLink = document.createElement('div');\n",
              "          docLink.innerHTML = docLinkHtml;\n",
              "          element.appendChild(docLink);\n",
              "        }\n",
              "      </script>\n",
              "    </div>\n",
              "  </div>\n",
              "  "
            ]
          },
          "metadata": {},
          "execution_count": 28
        }
      ]
    },
    {
      "cell_type": "code",
      "source": [
        "FastTextData = df[\"tokens\"].tolist()\n",
        "print(FastTextData[:1])"
      ],
      "metadata": {
        "id": "UB-HWORYTT-k",
        "outputId": "f45d7b14-797a-46ff-825a-608142cc1304",
        "colab": {
          "base_uri": "https://localhost:8080/"
        }
      },
      "execution_count": 30,
      "outputs": [
        {
          "output_type": "stream",
          "name": "stdout",
          "text": [
            "[['don', 'ko11mulko', 'ki', 'police', 'sms', 'kar', 'rahi', 'hai', 'par', 'don', 'ko', 'sms', 'karna', 'mushkil', 'hi', 'nahi', 'namumkin', 'hai', 'isliye', 'don', 'khud', 'sms', 'kar', 'raha', 'hai', 'happy', 'diwali', 'don']]\n"
          ]
        }
      ]
    },
    {
      "cell_type": "code",
      "execution_count": 31,
      "metadata": {
        "id": "GdO7LgAF6wex",
        "outputId": "ac8cfeb3-eb3f-4be3-e921-f4416e111616",
        "colab": {
          "base_uri": "https://localhost:8080/"
        }
      },
      "outputs": [
        {
          "output_type": "stream",
          "name": "stdout",
          "text": [
            "DONE!!!!\n",
            "Model saved!!!\n"
          ]
        }
      ],
      "source": [
        "#FastText training\n",
        "from gensim.models import FastText\n",
        "model = FastText(size=300, window=10, hs=0, negative = 1, min_count=1)  # instantiate\n",
        "model.build_vocab(sentences=FastTextData)\n",
        "model.train(sentences=FastTextData, total_examples=len(FastTextData), epochs=10)\n",
        "print(\"DONE!!!!\")\n",
        "model.save(\"fasttext_model.model\")\n",
        "print(\"Model saved!!!\")"
      ]
    },
    {
      "cell_type": "code",
      "source": [
        "model.similarity('gussa', 'angry')"
      ],
      "metadata": {
        "id": "_l7eoBJRKcyn",
        "outputId": "a9addf17-4710-4d24-eecc-23e3876974b3",
        "colab": {
          "base_uri": "https://localhost:8080/"
        }
      },
      "execution_count": 33,
      "outputs": [
        {
          "output_type": "stream",
          "name": "stderr",
          "text": [
            "/usr/local/lib/python3.7/dist-packages/ipykernel_launcher.py:1: DeprecationWarning: Call to deprecated `similarity` (Method will be removed in 4.0.0, use self.wv.similarity() instead).\n",
            "  \"\"\"Entry point for launching an IPython kernel.\n"
          ]
        },
        {
          "output_type": "execute_result",
          "data": {
            "text/plain": [
              "0.18726347"
            ]
          },
          "metadata": {},
          "execution_count": 33
        }
      ]
    }
  ]
}