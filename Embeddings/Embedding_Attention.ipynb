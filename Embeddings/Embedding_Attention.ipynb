{
 "cells": [
  {
   "cell_type": "markdown",
   "metadata": {
    "colab_type": "text",
    "id": "view-in-github"
   },
   "source": [
    "<a href=\"https://colab.research.google.com/github/paresh-nayyar/CSCI-544_NLP/blob/master/Embedding_Attention.ipynb\" target=\"_parent\"><img src=\"https://colab.research.google.com/assets/colab-badge.svg\" alt=\"Open In Colab\"/></a>"
   ]
  },
  {
   "cell_type": "markdown",
   "metadata": {
    "id": "9niAq10Q61mY"
   },
   "source": [
    "This notebook is for training fastText and word2Vec on our dataset"
   ]
  },
  {
   "cell_type": "code",
   "execution_count": 1,
   "metadata": {
    "id": "Q15c9rhoLu7W"
   },
   "outputs": [],
   "source": [
    "import re\n",
    "import json\n",
    "import string\n",
    "import requests\n",
    "import pandas as pd\n",
    "from gensim.models import FastText"
   ]
  },
  {
   "cell_type": "code",
   "execution_count": 2,
   "metadata": {
    "colab": {
     "base_uri": "https://localhost:8080/"
    },
    "id": "t5b9l_GoQYSB",
    "outputId": "15cf1de6-1632-4ad3-c629-798499776601"
   },
   "outputs": [
    {
     "name": "stdout",
     "output_type": "stream",
     "text": [
      "     tweetID                                              tweet\n",
      "0      46149  DON ko11mulko ki police sMs kar rahi hai par D...\n",
      "1   40317002  khushi ki talaash me sabhi haiyn. kya maiyn au...\n",
      "2   40319032  Are dostoin aao aur apne thoughts share karo. ...\n",
      "3  308624342  Na tum aa sako gay na phir baat hogi, Yeh kais...\n",
      "4  596311632  meethe gud me mil gaye til:)\\nudi patang aur k...\n",
      "(134693, 2)\n"
     ]
    }
   ],
   "source": [
    "#Reading the data\n",
    "url = \"https://raw.githubusercontent.com/paresh-nayyar/CSCI-544_NLP/master/data/tweet_data.json?token=GHSAT0AAAAAABTGDUW5BL7HVQUMWF5NWTCOYSZTHCQ\"\n",
    "url = requests.get(url)\n",
    "text = url.text\n",
    "data = json.loads(text)\n",
    "df = pd.DataFrame(list(data.items()), columns=['tweetID', 'tweet'])\n",
    "print(df.head(5))\n",
    "print(df.shape)"
   ]
  },
  {
   "cell_type": "code",
   "execution_count": 3,
   "metadata": {
    "colab": {
     "base_uri": "https://localhost:8080/",
     "height": 206
    },
    "id": "HF_5YliYMl-a",
    "outputId": "edb6331d-b891-49e3-ad59-c5e48f2a5d7b"
   },
   "outputs": [
    {
     "data": {
      "text/html": [
       "<div>\n",
       "<style scoped>\n",
       "    .dataframe tbody tr th:only-of-type {\n",
       "        vertical-align: middle;\n",
       "    }\n",
       "\n",
       "    .dataframe tbody tr th {\n",
       "        vertical-align: top;\n",
       "    }\n",
       "\n",
       "    .dataframe thead th {\n",
       "        text-align: right;\n",
       "    }\n",
       "</style>\n",
       "<table border=\"1\" class=\"dataframe\">\n",
       "  <thead>\n",
       "    <tr style=\"text-align: right;\">\n",
       "      <th></th>\n",
       "      <th>tweetID</th>\n",
       "      <th>tweet</th>\n",
       "    </tr>\n",
       "  </thead>\n",
       "  <tbody>\n",
       "    <tr>\n",
       "      <th>0</th>\n",
       "      <td>46149</td>\n",
       "      <td>don ko11mulko ki police sms kar rahi hai par d...</td>\n",
       "    </tr>\n",
       "    <tr>\n",
       "      <th>1</th>\n",
       "      <td>40317002</td>\n",
       "      <td>khushi ki talaash me sabhi haiyn kya maiyn aur...</td>\n",
       "    </tr>\n",
       "    <tr>\n",
       "      <th>2</th>\n",
       "      <td>40319032</td>\n",
       "      <td>are dostoin aao aur apne thoughts share karo l...</td>\n",
       "    </tr>\n",
       "    <tr>\n",
       "      <th>3</th>\n",
       "      <td>308624342</td>\n",
       "      <td>na tum aa sako gay na phir baat hogi yeh kaisi...</td>\n",
       "    </tr>\n",
       "    <tr>\n",
       "      <th>4</th>\n",
       "      <td>596311632</td>\n",
       "      <td>meethe gud me mil gaye til udi patang aur khil...</td>\n",
       "    </tr>\n",
       "  </tbody>\n",
       "</table>\n",
       "</div>"
      ],
      "text/plain": [
       "     tweetID                                              tweet\n",
       "0      46149  don ko11mulko ki police sms kar rahi hai par d...\n",
       "1   40317002  khushi ki talaash me sabhi haiyn kya maiyn aur...\n",
       "2   40319032  are dostoin aao aur apne thoughts share karo l...\n",
       "3  308624342  na tum aa sako gay na phir baat hogi yeh kaisi...\n",
       "4  596311632  meethe gud me mil gaye til udi patang aur khil..."
      ]
     },
     "execution_count": 3,
     "metadata": {},
     "output_type": "execute_result"
    }
   ],
   "source": [
    "#Basic Preprocessing\n",
    "def cleanSentence(sentence):\n",
    "    sentence = sentence.lower()\n",
    "    sentence = sentence.rstrip().replace(\"\\n\",\" \").replace(\"\\r\",\" \")\n",
    "    sentence = re.sub(' +', ' ', sentence)\n",
    "    sentence = sentence.translate(str.maketrans('', '', string.punctuation))\n",
    "    return sentence\n",
    "\n",
    "df[\"tweet\"]= df['tweet'].apply(lambda x : cleanSentence(x))\n",
    "df.head()"
   ]
  },
  {
   "cell_type": "code",
   "execution_count": 4,
   "metadata": {
    "colab": {
     "base_uri": "https://localhost:8080/",
     "height": 206
    },
    "id": "ayLocuZyTB1n",
    "outputId": "fbb4fbe5-9543-416a-f88e-e18bed1d0dff"
   },
   "outputs": [
    {
     "data": {
      "text/html": [
       "<div>\n",
       "<style scoped>\n",
       "    .dataframe tbody tr th:only-of-type {\n",
       "        vertical-align: middle;\n",
       "    }\n",
       "\n",
       "    .dataframe tbody tr th {\n",
       "        vertical-align: top;\n",
       "    }\n",
       "\n",
       "    .dataframe thead th {\n",
       "        text-align: right;\n",
       "    }\n",
       "</style>\n",
       "<table border=\"1\" class=\"dataframe\">\n",
       "  <thead>\n",
       "    <tr style=\"text-align: right;\">\n",
       "      <th></th>\n",
       "      <th>tweetID</th>\n",
       "      <th>tweet</th>\n",
       "      <th>tokens</th>\n",
       "    </tr>\n",
       "  </thead>\n",
       "  <tbody>\n",
       "    <tr>\n",
       "      <th>0</th>\n",
       "      <td>46149</td>\n",
       "      <td>don ko11mulko ki police sms kar rahi hai par d...</td>\n",
       "      <td>[don, ko11mulko, ki, police, sms, kar, rahi, h...</td>\n",
       "    </tr>\n",
       "    <tr>\n",
       "      <th>1</th>\n",
       "      <td>40317002</td>\n",
       "      <td>khushi ki talaash me sabhi haiyn kya maiyn aur...</td>\n",
       "      <td>[khushi, ki, talaash, me, sabhi, haiyn, kya, m...</td>\n",
       "    </tr>\n",
       "    <tr>\n",
       "      <th>2</th>\n",
       "      <td>40319032</td>\n",
       "      <td>are dostoin aao aur apne thoughts share karo l...</td>\n",
       "      <td>[are, dostoin, aao, aur, apne, thoughts, share...</td>\n",
       "    </tr>\n",
       "    <tr>\n",
       "      <th>3</th>\n",
       "      <td>308624342</td>\n",
       "      <td>na tum aa sako gay na phir baat hogi yeh kaisi...</td>\n",
       "      <td>[na, tum, aa, sako, gay, na, phir, baat, hogi,...</td>\n",
       "    </tr>\n",
       "    <tr>\n",
       "      <th>4</th>\n",
       "      <td>596311632</td>\n",
       "      <td>meethe gud me mil gaye til udi patang aur khil...</td>\n",
       "      <td>[meethe, gud, me, mil, gaye, til, udi, patang,...</td>\n",
       "    </tr>\n",
       "  </tbody>\n",
       "</table>\n",
       "</div>"
      ],
      "text/plain": [
       "     tweetID                                              tweet  \\\n",
       "0      46149  don ko11mulko ki police sms kar rahi hai par d...   \n",
       "1   40317002  khushi ki talaash me sabhi haiyn kya maiyn aur...   \n",
       "2   40319032  are dostoin aao aur apne thoughts share karo l...   \n",
       "3  308624342  na tum aa sako gay na phir baat hogi yeh kaisi...   \n",
       "4  596311632  meethe gud me mil gaye til udi patang aur khil...   \n",
       "\n",
       "                                              tokens  \n",
       "0  [don, ko11mulko, ki, police, sms, kar, rahi, h...  \n",
       "1  [khushi, ki, talaash, me, sabhi, haiyn, kya, m...  \n",
       "2  [are, dostoin, aao, aur, apne, thoughts, share...  \n",
       "3  [na, tum, aa, sako, gay, na, phir, baat, hogi,...  \n",
       "4  [meethe, gud, me, mil, gaye, til, udi, patang,...  "
      ]
     },
     "execution_count": 4,
     "metadata": {},
     "output_type": "execute_result"
    }
   ],
   "source": [
    "#tokenizing\n",
    "def tokenize(sentence):\n",
    "    tokens = sentence.split(\" \")\n",
    "    tokens = [x for x in tokens if len(x)>0]\n",
    "    return tokens\n",
    "\n",
    "df[\"tokens\"] = df[\"tweet\"].apply(lambda x : tokenize(x))\n",
    "df.head()"
   ]
  },
  {
   "cell_type": "code",
   "execution_count": 5,
   "metadata": {
    "colab": {
     "base_uri": "https://localhost:8080/"
    },
    "id": "UB-HWORYTT-k",
    "outputId": "f45d7b14-797a-46ff-825a-608142cc1304"
   },
   "outputs": [
    {
     "name": "stdout",
     "output_type": "stream",
     "text": [
      "[['don', 'ko11mulko', 'ki', 'police', 'sms', 'kar', 'rahi', 'hai', 'par', 'don', 'ko', 'sms', 'karna', 'mushkil', 'hi', 'nahi', 'namumkin', 'hai', 'isliye', 'don', 'khud', 'sms', 'kar', 'raha', 'hai', 'happy', 'diwali', 'don']]\n"
     ]
    }
   ],
   "source": [
    "FastTextData = df[\"tokens\"].tolist()\n",
    "print(FastTextData[:1])"
   ]
  },
  {
   "cell_type": "code",
   "execution_count": 6,
   "metadata": {
    "colab": {
     "base_uri": "https://localhost:8080/"
    },
    "id": "GdO7LgAF6wex",
    "outputId": "ac8cfeb3-eb3f-4be3-e921-f4416e111616"
   },
   "outputs": [
    {
     "data": {
      "text/plain": [
       "(20543621, 23060530)"
      ]
     },
     "execution_count": 6,
     "metadata": {},
     "output_type": "execute_result"
    }
   ],
   "source": [
    "#FastText training\n",
    "\n",
    "model = FastText(vector_size=300, window=10, hs=0, negative = 1, min_count=1)\n",
    "model.build_vocab(FastTextData)\n",
    "model.train(FastTextData, total_examples=len(FastTextData), epochs=10)"
   ]
  },
  {
   "cell_type": "code",
   "execution_count": 7,
   "metadata": {},
   "outputs": [
    {
     "name": "stdout",
     "output_type": "stream",
     "text": [
      "Model saved!!!\n"
     ]
    }
   ],
   "source": [
    "model.save(\"fasttext_model/fasttext_model.model\")\n",
    "print(\"Model saved!!!\")"
   ]
  },
  {
   "cell_type": "code",
   "execution_count": 8,
   "metadata": {},
   "outputs": [
    {
     "name": "stdout",
     "output_type": "stream",
     "text": [
      "(300,)\n",
      "(300,)\n"
     ]
    }
   ],
   "source": [
    "print(model.wv['gussa'].shape)\n",
    "print(model.wv['angry'].shape)"
   ]
  },
  {
   "cell_type": "code",
   "execution_count": 9,
   "metadata": {},
   "outputs": [
    {
     "data": {
      "text/plain": [
       "0.24080479"
      ]
     },
     "execution_count": 9,
     "metadata": {},
     "output_type": "execute_result"
    }
   ],
   "source": [
    "model.wv.similarity('gussa', 'angry')"
   ]
  },
  {
   "cell_type": "code",
   "execution_count": 10,
   "metadata": {},
   "outputs": [
    {
     "data": {
      "text/plain": [
       "-0.05222138"
      ]
     },
     "execution_count": 10,
     "metadata": {},
     "output_type": "execute_result"
    }
   ],
   "source": [
    "model.wv.similarity('gussa', 'happy')"
   ]
  },
  {
   "cell_type": "code",
   "execution_count": 11,
   "metadata": {},
   "outputs": [
    {
     "data": {
      "text/plain": [
       "[('happy♥', 0.9964889883995056),\n",
       " ('happyd', 0.9962071776390076),\n",
       " ('happy😁😁', 0.9961686730384827),\n",
       " ('happy😂🎉💃', 0.9960911273956299),\n",
       " ('happyok03', 0.9959768652915955),\n",
       " ('happysms2', 0.9958986639976501),\n",
       " ('happy0997', 0.995539128780365),\n",
       " ('happylie8', 0.9954560399055481),\n",
       " ('happyclub', 0.9954178929328918),\n",
       " ('happyolwayz', 0.9944841265678406),\n",
       " ('happysoul966', 0.9936054348945618),\n",
       " ('happy280', 0.9929526448249817),\n",
       " ('happydefault', 0.9925441741943359),\n",
       " ('happy2020', 0.9919973611831665),\n",
       " ('happysoul', 0.9909070134162903),\n",
       " ('happy2019', 0.9894585013389587),\n",
       " ('happysaif', 0.9893147945404053),\n",
       " ('happylohri2020', 0.9892993569374084),\n",
       " ('happyunicorn', 0.9884064793586731),\n",
       " ('happyjsk', 0.9882059097290039),\n",
       " ('happyget', 0.9874106645584106),\n",
       " ('happyevil', 0.9867644906044006),\n",
       " ('happyhorizons', 0.9848529100418091),\n",
       " ('happyhika92', 0.9847056865692139),\n",
       " ('momhappy', 0.9844312071800232),\n",
       " ('happyyyy', 0.9841019511222839),\n",
       " ('🙏happy', 0.9829357266426086),\n",
       " ('happybdayviru', 0.9829343557357788),\n",
       " ('uhappy', 0.9829107522964478),\n",
       " ('🎂👌happy', 0.982787013053894),\n",
       " ('1happy', 0.9825533032417297),\n",
       " ('johappy', 0.9823601245880127),\n",
       " ('😍😘😍happy', 0.98221355676651),\n",
       " ('happyish', 0.9821381568908691),\n",
       " ('happyspace', 0.9819402694702148),\n",
       " ('happystatue', 0.98192298412323),\n",
       " ('happyasababy', 0.981784462928772),\n",
       " ('happyme', 0.9817195534706116),\n",
       " ('duhappy', 0.9816750288009644),\n",
       " ('mrfuknhappy', 0.9816383719444275),\n",
       " ('happyface', 0.9812410473823547),\n",
       " ('sehappy', 0.9807878732681274),\n",
       " ('happytempered', 0.9807288646697998),\n",
       " ('unhappy', 0.9806779623031616),\n",
       " ('phappy', 0.9801669716835022),\n",
       " ('happylohri', 0.9798868894577026),\n",
       " ('dyahappy', 0.9796746373176575),\n",
       " ('happygirl', 0.9793611168861389),\n",
       " ('happ', 0.9787855744361877),\n",
       " ('a1965happy', 0.9786583185195923)]"
      ]
     },
     "execution_count": 11,
     "metadata": {},
     "output_type": "execute_result"
    }
   ],
   "source": [
    "model.wv.most_similar(positive=['happy'], topn = 50)"
   ]
  }
 ],
 "metadata": {
  "colab": {
   "authorship_tag": "ABX9TyNpZj76/Jsy8TPfr3UCIoIg",
   "include_colab_link": true,
   "name": "Embedding.ipynb",
   "provenance": []
  },
  "kernelspec": {
   "display_name": "Python 3 (ipykernel)",
   "language": "python",
   "name": "python3"
  },
  "language_info": {
   "codemirror_mode": {
    "name": "ipython",
    "version": 3
   },
   "file_extension": ".py",
   "mimetype": "text/x-python",
   "name": "python",
   "nbconvert_exporter": "python",
   "pygments_lexer": "ipython3",
   "version": "3.9.7"
  }
 },
 "nbformat": 4,
 "nbformat_minor": 1
}
