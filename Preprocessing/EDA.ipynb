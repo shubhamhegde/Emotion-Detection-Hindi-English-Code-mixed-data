{
  "nbformat": 4,
  "nbformat_minor": 0,
  "metadata": {
    "colab": {
      "name": "NLP_Project.ipynb",
      "provenance": [],
      "include_colab_link": true
    },
    "kernelspec": {
      "name": "python3",
      "display_name": "Python 3"
    },
    "language_info": {
      "name": "python"
    }
  },
  "cells": [
    {
      "cell_type": "markdown",
      "metadata": {
        "id": "view-in-github",
        "colab_type": "text"
      },
      "source": [
        "<a href=\"https://colab.research.google.com/github/paresh-nayyar/CSCI-544_NLP/blob/master/NLP_Project.ipynb\" target=\"_parent\"><img src=\"https://colab.research.google.com/assets/colab-badge.svg\" alt=\"Open In Colab\"/></a>"
      ]
    },
    {
      "cell_type": "code",
      "source": [
        "import re\n",
        "import pandas as pd\n",
        "import string"
      ],
      "metadata": {
        "id": "Z4d_IsSHiJga"
      },
      "execution_count": 1,
      "outputs": []
    },
    {
      "cell_type": "code",
      "execution_count": 4,
      "metadata": {
        "colab": {
          "base_uri": "https://localhost:8080/"
        },
        "id": "hXRIEswfhOaB",
        "outputId": "3c94ad35-3aa9-4632-8103-45de3527e83b"
      },
      "outputs": [
        {
          "output_type": "stream",
          "name": "stdout",
          "text": [
            "  category                                         Statements\n",
            "0    happy                     esh bar ka summer the best tha\n",
            "1    angry                               sala chutiya hai log\n",
            "2  neutral         I just came back yesterday from California\n",
            "3    happy         family ke sat califonia gumane me maza aya\n",
            "4    happy  ghar ke sab logo ko thankyou mera sat rhane ka...\n"
          ]
        }
      ],
      "source": [
        "url = 'https://raw.githubusercontent.com/paresh-nayyar/CSCI-544_NLP/master/data/code_mix_sentences_emotions_tagged.csv?token=GHSAT0AAAAAABTMFR3GIRLJ4HRYI5AK3J6CYSSGVYA'\n",
        "df = pd.read_csv(url)\n",
        "\n",
        "print(df.head(5))"
      ]
    },
    {
      "cell_type": "code",
      "source": [
        "df.columns"
      ],
      "metadata": {
        "colab": {
          "base_uri": "https://localhost:8080/"
        },
        "id": "VuDj65YOvpXP",
        "outputId": "da327c5e-2455-4d56-b666-5ec60f6c94a0"
      },
      "execution_count": 5,
      "outputs": [
        {
          "output_type": "execute_result",
          "data": {
            "text/plain": [
              "Index(['category', 'Statements'], dtype='object')"
            ]
          },
          "metadata": {},
          "execution_count": 5
        }
      ]
    },
    {
      "cell_type": "code",
      "source": [
        "df.category.value_counts()"
      ],
      "metadata": {
        "colab": {
          "base_uri": "https://localhost:8080/"
        },
        "id": "WhpaD4JLvpb7",
        "outputId": "027d5285-d71d-4fb8-e04b-9aaba306a15e"
      },
      "execution_count": 6,
      "outputs": [
        {
          "output_type": "execute_result",
          "data": {
            "text/plain": [
              "happy       142\n",
              "sad          79\n",
              "angry        70\n",
              "neutral      70\n",
              "fear         30\n",
              "surprise      7\n",
              "Name: category, dtype: int64"
            ]
          },
          "metadata": {},
          "execution_count": 6
        }
      ]
    },
    {
      "cell_type": "code",
      "source": [
        "len(df)"
      ],
      "metadata": {
        "colab": {
          "base_uri": "https://localhost:8080/"
        },
        "id": "qVARLz6fweK3",
        "outputId": "7896f3ed-5482-4c9a-fb20-2e1bb683cbf8"
      },
      "execution_count": 7,
      "outputs": [
        {
          "output_type": "execute_result",
          "data": {
            "text/plain": [
              "398"
            ]
          },
          "metadata": {},
          "execution_count": 7
        }
      ]
    },
    {
      "cell_type": "code",
      "source": [
        "def cleanSentence(sentence):\n",
        "  sentence = sentence.lower()\n",
        "  sentence = sentence.rstrip().replace(\"\\n\",\" \").replace(\"\\r\",\" \")\n",
        "  sentence = re.sub(' +', ' ', sentence)\n",
        "  sentence = sentence.translate(str.maketrans('', '', string.punctuation))\n",
        "\n",
        "  return sentence\n",
        "\n",
        "df[\"Statements\"]= df[\"Statements\"].apply(lambda x : cleanSentence(x))\n",
        "df.head()"
      ],
      "metadata": {
        "colab": {
          "base_uri": "https://localhost:8080/",
          "height": 206
        },
        "id": "lzA1kMxmw_Jj",
        "outputId": "d6436a47-200a-4abf-bb69-fb0ae2d4b355"
      },
      "execution_count": 8,
      "outputs": [
        {
          "output_type": "execute_result",
          "data": {
            "text/plain": [
              "  category                                         Statements\n",
              "0    happy                     esh bar ka summer the best tha\n",
              "1    angry                               sala chutiya hai log\n",
              "2  neutral         i just came back yesterday from california\n",
              "3    happy         family ke sat califonia gumane me maza aya\n",
              "4    happy  ghar ke sab logo ko thankyou mera sat rhane ka..."
            ],
            "text/html": [
              "\n",
              "  <div id=\"df-6c2401b3-bfed-4c5c-ae56-0a5959fd1853\">\n",
              "    <div class=\"colab-df-container\">\n",
              "      <div>\n",
              "<style scoped>\n",
              "    .dataframe tbody tr th:only-of-type {\n",
              "        vertical-align: middle;\n",
              "    }\n",
              "\n",
              "    .dataframe tbody tr th {\n",
              "        vertical-align: top;\n",
              "    }\n",
              "\n",
              "    .dataframe thead th {\n",
              "        text-align: right;\n",
              "    }\n",
              "</style>\n",
              "<table border=\"1\" class=\"dataframe\">\n",
              "  <thead>\n",
              "    <tr style=\"text-align: right;\">\n",
              "      <th></th>\n",
              "      <th>category</th>\n",
              "      <th>Statements</th>\n",
              "    </tr>\n",
              "  </thead>\n",
              "  <tbody>\n",
              "    <tr>\n",
              "      <th>0</th>\n",
              "      <td>happy</td>\n",
              "      <td>esh bar ka summer the best tha</td>\n",
              "    </tr>\n",
              "    <tr>\n",
              "      <th>1</th>\n",
              "      <td>angry</td>\n",
              "      <td>sala chutiya hai log</td>\n",
              "    </tr>\n",
              "    <tr>\n",
              "      <th>2</th>\n",
              "      <td>neutral</td>\n",
              "      <td>i just came back yesterday from california</td>\n",
              "    </tr>\n",
              "    <tr>\n",
              "      <th>3</th>\n",
              "      <td>happy</td>\n",
              "      <td>family ke sat califonia gumane me maza aya</td>\n",
              "    </tr>\n",
              "    <tr>\n",
              "      <th>4</th>\n",
              "      <td>happy</td>\n",
              "      <td>ghar ke sab logo ko thankyou mera sat rhane ka...</td>\n",
              "    </tr>\n",
              "  </tbody>\n",
              "</table>\n",
              "</div>\n",
              "      <button class=\"colab-df-convert\" onclick=\"convertToInteractive('df-6c2401b3-bfed-4c5c-ae56-0a5959fd1853')\"\n",
              "              title=\"Convert this dataframe to an interactive table.\"\n",
              "              style=\"display:none;\">\n",
              "        \n",
              "  <svg xmlns=\"http://www.w3.org/2000/svg\" height=\"24px\"viewBox=\"0 0 24 24\"\n",
              "       width=\"24px\">\n",
              "    <path d=\"M0 0h24v24H0V0z\" fill=\"none\"/>\n",
              "    <path d=\"M18.56 5.44l.94 2.06.94-2.06 2.06-.94-2.06-.94-.94-2.06-.94 2.06-2.06.94zm-11 1L8.5 8.5l.94-2.06 2.06-.94-2.06-.94L8.5 2.5l-.94 2.06-2.06.94zm10 10l.94 2.06.94-2.06 2.06-.94-2.06-.94-.94-2.06-.94 2.06-2.06.94z\"/><path d=\"M17.41 7.96l-1.37-1.37c-.4-.4-.92-.59-1.43-.59-.52 0-1.04.2-1.43.59L10.3 9.45l-7.72 7.72c-.78.78-.78 2.05 0 2.83L4 21.41c.39.39.9.59 1.41.59.51 0 1.02-.2 1.41-.59l7.78-7.78 2.81-2.81c.8-.78.8-2.07 0-2.86zM5.41 20L4 18.59l7.72-7.72 1.47 1.35L5.41 20z\"/>\n",
              "  </svg>\n",
              "      </button>\n",
              "      \n",
              "  <style>\n",
              "    .colab-df-container {\n",
              "      display:flex;\n",
              "      flex-wrap:wrap;\n",
              "      gap: 12px;\n",
              "    }\n",
              "\n",
              "    .colab-df-convert {\n",
              "      background-color: #E8F0FE;\n",
              "      border: none;\n",
              "      border-radius: 50%;\n",
              "      cursor: pointer;\n",
              "      display: none;\n",
              "      fill: #1967D2;\n",
              "      height: 32px;\n",
              "      padding: 0 0 0 0;\n",
              "      width: 32px;\n",
              "    }\n",
              "\n",
              "    .colab-df-convert:hover {\n",
              "      background-color: #E2EBFA;\n",
              "      box-shadow: 0px 1px 2px rgba(60, 64, 67, 0.3), 0px 1px 3px 1px rgba(60, 64, 67, 0.15);\n",
              "      fill: #174EA6;\n",
              "    }\n",
              "\n",
              "    [theme=dark] .colab-df-convert {\n",
              "      background-color: #3B4455;\n",
              "      fill: #D2E3FC;\n",
              "    }\n",
              "\n",
              "    [theme=dark] .colab-df-convert:hover {\n",
              "      background-color: #434B5C;\n",
              "      box-shadow: 0px 1px 3px 1px rgba(0, 0, 0, 0.15);\n",
              "      filter: drop-shadow(0px 1px 2px rgba(0, 0, 0, 0.3));\n",
              "      fill: #FFFFFF;\n",
              "    }\n",
              "  </style>\n",
              "\n",
              "      <script>\n",
              "        const buttonEl =\n",
              "          document.querySelector('#df-6c2401b3-bfed-4c5c-ae56-0a5959fd1853 button.colab-df-convert');\n",
              "        buttonEl.style.display =\n",
              "          google.colab.kernel.accessAllowed ? 'block' : 'none';\n",
              "\n",
              "        async function convertToInteractive(key) {\n",
              "          const element = document.querySelector('#df-6c2401b3-bfed-4c5c-ae56-0a5959fd1853');\n",
              "          const dataTable =\n",
              "            await google.colab.kernel.invokeFunction('convertToInteractive',\n",
              "                                                     [key], {});\n",
              "          if (!dataTable) return;\n",
              "\n",
              "          const docLinkHtml = 'Like what you see? Visit the ' +\n",
              "            '<a target=\"_blank\" href=https://colab.research.google.com/notebooks/data_table.ipynb>data table notebook</a>'\n",
              "            + ' to learn more about interactive tables.';\n",
              "          element.innerHTML = '';\n",
              "          dataTable['output_type'] = 'display_data';\n",
              "          await google.colab.output.renderOutput(dataTable, element);\n",
              "          const docLink = document.createElement('div');\n",
              "          docLink.innerHTML = docLinkHtml;\n",
              "          element.appendChild(docLink);\n",
              "        }\n",
              "      </script>\n",
              "    </div>\n",
              "  </div>\n",
              "  "
            ]
          },
          "metadata": {},
          "execution_count": 8
        }
      ]
    },
    {
      "cell_type": "code",
      "source": [
        "def tokenize(sentence):\n",
        "  tokens = sentence.split(\" \")\n",
        "  tokens = [x for x in tokens if len(x)>0]\n",
        "  return tokens\n",
        "\n",
        "df[\"tokens\"]= df[\"Statements\"].apply(lambda x : tokenize(x))\n",
        "df.head()"
      ],
      "metadata": {
        "id": "r7foFV8FghUs",
        "outputId": "9ee4155e-9156-4553-fabb-eeeefd19eb4d",
        "colab": {
          "base_uri": "https://localhost:8080/",
          "height": 206
        }
      },
      "execution_count": 9,
      "outputs": [
        {
          "output_type": "execute_result",
          "data": {
            "text/plain": [
              "  category                                         Statements  \\\n",
              "0    happy                     esh bar ka summer the best tha   \n",
              "1    angry                               sala chutiya hai log   \n",
              "2  neutral         i just came back yesterday from california   \n",
              "3    happy         family ke sat califonia gumane me maza aya   \n",
              "4    happy  ghar ke sab logo ko thankyou mera sat rhane ka...   \n",
              "\n",
              "                                              tokens  \n",
              "0             [esh, bar, ka, summer, the, best, tha]  \n",
              "1                          [sala, chutiya, hai, log]  \n",
              "2  [i, just, came, back, yesterday, from, califor...  \n",
              "3  [family, ke, sat, califonia, gumane, me, maza,...  \n",
              "4  [ghar, ke, sab, logo, ko, thankyou, mera, sat,...  "
            ],
            "text/html": [
              "\n",
              "  <div id=\"df-c1f1a4c6-d715-416a-bb39-e93b23494b24\">\n",
              "    <div class=\"colab-df-container\">\n",
              "      <div>\n",
              "<style scoped>\n",
              "    .dataframe tbody tr th:only-of-type {\n",
              "        vertical-align: middle;\n",
              "    }\n",
              "\n",
              "    .dataframe tbody tr th {\n",
              "        vertical-align: top;\n",
              "    }\n",
              "\n",
              "    .dataframe thead th {\n",
              "        text-align: right;\n",
              "    }\n",
              "</style>\n",
              "<table border=\"1\" class=\"dataframe\">\n",
              "  <thead>\n",
              "    <tr style=\"text-align: right;\">\n",
              "      <th></th>\n",
              "      <th>category</th>\n",
              "      <th>Statements</th>\n",
              "      <th>tokens</th>\n",
              "    </tr>\n",
              "  </thead>\n",
              "  <tbody>\n",
              "    <tr>\n",
              "      <th>0</th>\n",
              "      <td>happy</td>\n",
              "      <td>esh bar ka summer the best tha</td>\n",
              "      <td>[esh, bar, ka, summer, the, best, tha]</td>\n",
              "    </tr>\n",
              "    <tr>\n",
              "      <th>1</th>\n",
              "      <td>angry</td>\n",
              "      <td>sala chutiya hai log</td>\n",
              "      <td>[sala, chutiya, hai, log]</td>\n",
              "    </tr>\n",
              "    <tr>\n",
              "      <th>2</th>\n",
              "      <td>neutral</td>\n",
              "      <td>i just came back yesterday from california</td>\n",
              "      <td>[i, just, came, back, yesterday, from, califor...</td>\n",
              "    </tr>\n",
              "    <tr>\n",
              "      <th>3</th>\n",
              "      <td>happy</td>\n",
              "      <td>family ke sat califonia gumane me maza aya</td>\n",
              "      <td>[family, ke, sat, califonia, gumane, me, maza,...</td>\n",
              "    </tr>\n",
              "    <tr>\n",
              "      <th>4</th>\n",
              "      <td>happy</td>\n",
              "      <td>ghar ke sab logo ko thankyou mera sat rhane ka...</td>\n",
              "      <td>[ghar, ke, sab, logo, ko, thankyou, mera, sat,...</td>\n",
              "    </tr>\n",
              "  </tbody>\n",
              "</table>\n",
              "</div>\n",
              "      <button class=\"colab-df-convert\" onclick=\"convertToInteractive('df-c1f1a4c6-d715-416a-bb39-e93b23494b24')\"\n",
              "              title=\"Convert this dataframe to an interactive table.\"\n",
              "              style=\"display:none;\">\n",
              "        \n",
              "  <svg xmlns=\"http://www.w3.org/2000/svg\" height=\"24px\"viewBox=\"0 0 24 24\"\n",
              "       width=\"24px\">\n",
              "    <path d=\"M0 0h24v24H0V0z\" fill=\"none\"/>\n",
              "    <path d=\"M18.56 5.44l.94 2.06.94-2.06 2.06-.94-2.06-.94-.94-2.06-.94 2.06-2.06.94zm-11 1L8.5 8.5l.94-2.06 2.06-.94-2.06-.94L8.5 2.5l-.94 2.06-2.06.94zm10 10l.94 2.06.94-2.06 2.06-.94-2.06-.94-.94-2.06-.94 2.06-2.06.94z\"/><path d=\"M17.41 7.96l-1.37-1.37c-.4-.4-.92-.59-1.43-.59-.52 0-1.04.2-1.43.59L10.3 9.45l-7.72 7.72c-.78.78-.78 2.05 0 2.83L4 21.41c.39.39.9.59 1.41.59.51 0 1.02-.2 1.41-.59l7.78-7.78 2.81-2.81c.8-.78.8-2.07 0-2.86zM5.41 20L4 18.59l7.72-7.72 1.47 1.35L5.41 20z\"/>\n",
              "  </svg>\n",
              "      </button>\n",
              "      \n",
              "  <style>\n",
              "    .colab-df-container {\n",
              "      display:flex;\n",
              "      flex-wrap:wrap;\n",
              "      gap: 12px;\n",
              "    }\n",
              "\n",
              "    .colab-df-convert {\n",
              "      background-color: #E8F0FE;\n",
              "      border: none;\n",
              "      border-radius: 50%;\n",
              "      cursor: pointer;\n",
              "      display: none;\n",
              "      fill: #1967D2;\n",
              "      height: 32px;\n",
              "      padding: 0 0 0 0;\n",
              "      width: 32px;\n",
              "    }\n",
              "\n",
              "    .colab-df-convert:hover {\n",
              "      background-color: #E2EBFA;\n",
              "      box-shadow: 0px 1px 2px rgba(60, 64, 67, 0.3), 0px 1px 3px 1px rgba(60, 64, 67, 0.15);\n",
              "      fill: #174EA6;\n",
              "    }\n",
              "\n",
              "    [theme=dark] .colab-df-convert {\n",
              "      background-color: #3B4455;\n",
              "      fill: #D2E3FC;\n",
              "    }\n",
              "\n",
              "    [theme=dark] .colab-df-convert:hover {\n",
              "      background-color: #434B5C;\n",
              "      box-shadow: 0px 1px 3px 1px rgba(0, 0, 0, 0.15);\n",
              "      filter: drop-shadow(0px 1px 2px rgba(0, 0, 0, 0.3));\n",
              "      fill: #FFFFFF;\n",
              "    }\n",
              "  </style>\n",
              "\n",
              "      <script>\n",
              "        const buttonEl =\n",
              "          document.querySelector('#df-c1f1a4c6-d715-416a-bb39-e93b23494b24 button.colab-df-convert');\n",
              "        buttonEl.style.display =\n",
              "          google.colab.kernel.accessAllowed ? 'block' : 'none';\n",
              "\n",
              "        async function convertToInteractive(key) {\n",
              "          const element = document.querySelector('#df-c1f1a4c6-d715-416a-bb39-e93b23494b24');\n",
              "          const dataTable =\n",
              "            await google.colab.kernel.invokeFunction('convertToInteractive',\n",
              "                                                     [key], {});\n",
              "          if (!dataTable) return;\n",
              "\n",
              "          const docLinkHtml = 'Like what you see? Visit the ' +\n",
              "            '<a target=\"_blank\" href=https://colab.research.google.com/notebooks/data_table.ipynb>data table notebook</a>'\n",
              "            + ' to learn more about interactive tables.';\n",
              "          element.innerHTML = '';\n",
              "          dataTable['output_type'] = 'display_data';\n",
              "          await google.colab.output.renderOutput(dataTable, element);\n",
              "          const docLink = document.createElement('div');\n",
              "          docLink.innerHTML = docLinkHtml;\n",
              "          element.appendChild(docLink);\n",
              "        }\n",
              "      </script>\n",
              "    </div>\n",
              "  </div>\n",
              "  "
            ]
          },
          "metadata": {},
          "execution_count": 9
        }
      ]
    },
    {
      "cell_type": "code",
      "source": [
        "def getVocab(df):\n",
        "  vocab = set()\n",
        "  for tokens in df[\"tokens\"]:\n",
        "    tokens = set(tokens)\n",
        "    vocab = vocab.union(tokens)\n",
        "  return list(vocab)\n",
        "\n",
        "vocab = getVocab(df)\n",
        "len(vocab)"
      ],
      "metadata": {
        "id": "an-mM_j2hdn1",
        "outputId": "1b285561-3ec8-4dfe-9b98-ce79e6b616bc",
        "colab": {
          "base_uri": "https://localhost:8080/"
        }
      },
      "execution_count": 10,
      "outputs": [
        {
          "output_type": "execute_result",
          "data": {
            "text/plain": [
              "1990"
            ]
          },
          "metadata": {},
          "execution_count": 10
        }
      ]
    },
    {
      "cell_type": "code",
      "source": [
        "\", \".join(vocab)"
      ],
      "metadata": {
        "id": "OLw72fhuiZIU",
        "outputId": "39e2cbc8-848e-47d4-9c3c-3f863eb6f566",
        "colab": {
          "base_uri": "https://localhost:8080/",
          "height": 142
        }
      },
      "execution_count": 11,
      "outputs": [
        {
          "output_type": "execute_result",
          "data": {
            "text/plain": [
              "'moralss, disorder, damdar, ne, cmmnt, lagi, dis, bda, hindu, please, monday, harana, aukat, enjoy, karo, ka, jeet, hmari, liye, here, sona, punjab, bni, se, his, gaal, agar, hi, khatam, elawa, tanhai, sometimes, dijie, aarakshan, team, met, confess, nay, jyda, anyway, short, kabada, kbhi, virgin, french, childwood, milaga, lagwata, bhaiya, cant, aimlessly, jane, meaning, kehte, bas, caste, sure, roads, chis, indian, couple, poor, khatey, jo, dp, gotta, beta, pehli, mp3, mera, hunnnn, sis, bano, krte, history, baad, aengi, shayari, huva, ankho, this, bhaga, the, gud, rahi, hath, tujse, zinta, youtube, apani, ugle, bolta, your, kaha, khilwad, hais, poison, pakistan, acc, tmhare, kardiya, mvi, krnge, shift, kadmon, sytem, accoeding, guess, dena, nikal, south, azaadi, chod, each, pyr, bhai, whole, sun, aane, kha, yek, is, usey, rona, popularity, nai, wanna, liked, banda, justice, desires, uspr, madhur, where, mt, krna, ranjhaana, nigaah, angrying, jealous, gadi, marna, santi, jeb, gana, bhagega, thums, tbi, sare, yahan, from, think, lot, english, rok, what, yojna, paka, dressing, happy, gaya, in, free, heropanti, batsman, aamir, site, ek, black, karmachaari, kbi, tubhi, d, music, friend, crush, apna, bich, boreeee, crcmtances, da, family, uth, go, xd, frds, day, college, jhnd, gam, acche, qurbaan, khud, opening, yaaro, gea, yaar, ghatiya, border, suna, him, taleey, cangan, hello, jinda, hamri, kitna, denge, califonia, mom, kal, modi, request, chennai, ladka, voting, hayran, ta, live, came, gandhinagar, aww, hppy, gir, hardwork, ds, boliye, someone, ol, chudaai, khushi, angry, karwane, attha, peeke, wala, must, ertiga, bada, only, dikhai, an, iitb, habit, succeed, movie, bicho, gonna, jhok, attract, beti, men, gira, well, really, bat, prem, open, jaaneman, with, salwaar, naya, on, bro, gandhi, bechari, aise, insecurity, jolie, too, diamond, kisi, pahle, pasand, passionately, country, nariyal, articipation, bakwass, because, aiming, gulbadan, doesnt, nonsence, pity, taki, aansuon, deshbhagto, gautam, g3, gift, sochta, tabah, belive, bhahut, ldkiya, fantastic, bjp, ni, page, treat, aacha, marte, show, abt, heere, chu, re, result, khila, defeated, sab, offers, her, isse, mantra, dunya, gayatri, tumera, thts, galti, that, rang, prents, dimple, aisa, hats, security, bna, jati, going, xam, mile, ati, monk, payega, nautanki, janne, keh, bareme, maang, parents, esbar, ladki, side, chahte, cute, majority, wakt, ths, attack, ajkal, anath, eid, dayan, dikh, itni, been, pdhte, talented, party, world, india, karwati, n, f, fight, saamna, date, dkhne, chick, sanik, hote, rahen, hasi, deserved, smjhegi, efforts, keliya, phuket, chutiyapanti, tuu, sweating, smiling, lekr, nmbr, cnfssn, yai, bad, mae, phool, any, iz, like, conc, lagta, rhi, sapne, sune, usme, diya, meh, juz, jagah, karega, lega, boy, road, karl, theres, tumhare, bathroom, oilbhaut, translation, even, independence, bache, congress, daal, ladkiyo, proposal, dmb, yahi, yehkarishma, vote, score, mil, chori, pani, phele, form, pakau, slap, jata, mana, know, as, miss, park, dsprately, banoge, dharam, dono, ques, adhe, dusre, chiz, ban, lg, several, hindi, help, z, potntial, dimak, sensible, night, liyahi, garav, practical, ho, darashata, nonsense, nachle, sometime, chappal, jaisa, chahi, dekhne, apne, ata, finally, tea, long, jerks, plane, complition, ane, sochna, gold, tumhara, napunsak, apeal, jaye, strong, iitian, achcha, ab, cracking, step, li, jay, sci, would, ladwate, upen, lagtey, kya, chuthia, shehnai, mazak, partition, jahan, try, poore, of, pyaar, folder, no, sharp, study, ram, gali, bhar, im, panoooti, mjhe, mean, izzat, kaliye, kasam, nd, baat, haat, jesi, negative, ayagaa, sadness, 20, na, walking, bahaduri, chahe, maari, who, ghr, kitana, vale, holiday, hamesha, right, bus, paash, kehna, sick, iska, dain, kartha, bakwas, yesterday, ki, failure, sach, milega, it, our, girls, traits, luxurious, bihar, idiots, baki, send, awesome, controversy, pe, all, joot, defence, prfume, last, waheguru, crazy, maybe, mumy, joke, gya, thn, aka, problm, jindagi, my, rote, llo, voice, done, naach, ye, haye, woh, ishaq, bs, dil, rhte, yr, tu, keep, jaan, so, skill, lips, bf, intlgnt, out, grl, final, etana, chabi, whn, katrinas, may, thing, proud, hoga, pyarr, already, youve, tht, got, message, famous, sataao, sirf, 3, chutiye, development, ll, gals, dukhi, usse, st, bol, nhi, btaega, vishnu, koi, sunny, thodena, aukaat, raha, concentrate, food, me, bet, hua, he, naam, karke, bula, am, bigad, utni, hey, mahfil, dosto, beautiful, bd, corrupted, campaning, certificates, tune, nahinsaf, son, hatts, foto, milkha, aaja, pa, dikha, were, pata, muje, jindgi, place, kiss, cnfesn, bezti, kaam, khol, yaa, kroo, hoge, kash, zzx, singer, gurlz, paise, tere, ayurveda, successful, nw, somethings, dawai, solve, dhyn, issi, jeeu, phone, padhai, eiffel, lol, huye, dharma, pardesh, karna, chance, ri, vd, mat, hv, life, guys, mr, du, bhabhi, cnfsr, padha, friends, bdi, dekh, votho, full, bhool, back, another, jus, hota, confuse, smaj, k, chairman, chalti, vo, nazar, tagged, thankgod, si, din, bc, dimag, buri, kutto, kind, their, ti, mushe, o, janata, pak, mjhse, sachin, ramesh, relationship, dna, krrish, hila, will, dance, krne, shikhar, hve, bolna, confession, hospital, m, cooooool, ke, heard, bachhe, baadiya, makki, off, bhi, review, use, again, government, kro, renamed, hogaye, best, hat, esh, hone, cousin, bihario, basa, percnt, chudel, desh, ladkii, sundar, baut, goes, padukone, rhoge, bdhya, considering, pyar, theek, 4th, narendra, system, kharidana, rulaye, zindagi, subah, rqst, frndship, hoten, by, bandhan, coz, kuch, pain, b, apprehend, chez, kiay, sochatey, state, behna, surksha, kamine, achha, hein, karoge, pagal, gye, dhawan, sucks, ate, pakne, batana, sal, abhi, soja, karni, lakiyo, cutiee, tarah, rastey, fielder, madicin, towards, song, jao, deta, upa, padi, logo, confssion, aunty, saal, sara, daalke, pontecorvo, piroliye, sonu, abey, teer, complan, khel, e, noone, funny, c, waali, smylin, have, novtel, sm, hu, teri, ranveer, lgega, maje, rajpal, jee, dhoop, cnfsns, pal, quite, wait, bloody, rqust, year, posts, composer, wali, lyrics, shrab, down, univrsty, cmmtd, frnd, sharam, wat, padai, jaago, haapy, adorable, dept, vidhi, dost, first, pillarz, oye, shud, dete, win, vrna, lagati, drinking, lagake, baaton, fuckng, chalenged, certificate, httpwwwrahulgandhinetin, aswome, jau, unpe, kamaal, bnd, pakka, jayegi, octoberfest, admission, rha, hum, pine, had, wajeh, assumptions, moron, hacked, hug, valo, dimg, rahul, kb, babu, awaz, humne, kasi, humans, huaa, solay, not, msg, webcam, brad, dega, around, confident, cutie, nainsaafi, chla, chill, wo, leli, stapati, style, badan, laundiya, ring, karne, fkr, champions, bahut, bani, tbhi, mar, abi, communication, muslim, socha, mirinda, kiya, such, lifeboy, jahaan, peeing, kill, say, apas, kushi, kam, mast, sath, hadd, guyz, subh, york, feel, tujhe, aya, tell, wrong, poet, par, kahani, bana, jabrdast, age, keliye, bhagwan, swiss, general, avatar, sochte, wale, badi, sarson, bihari, garme, karti, diz, padane, honi, raho, admi, dur, saag, carore, studies, update, express, halat, flowers, mai, chaiye, never, laga, tb, maza, samjh, just, jalan, mujhe, cmment, padh, get, neva, sachai, ladaki, likha, bilkul, achhe, maja, hain, highest, unko, apki, bolne, bar, pitt, fuel, laufed, mummy, loose, real, r, katju, baare, maaja, picture, work, hao, aashiq, sbse, ldki, dikhta, dude, 12th, there, oonpe, ricky, hav, pada, nt, sir, jate, worry, while, chutiyen, thode, kyse, keecha, lgi, paa, correct, icc, aaj, krega, prblms, manega, agr, thnkjuu, leti, chahiye, kabhi, thodi, senti, days, uska, kaisa, listening, sonakhsi, pkka, new, backup, aisi, ya, pr, sb, krta, vehle, jokes, heart, vikas, boom, aap, difrnce, man, e1, pas, umc, zone, sub, 6th, kp, gayi, saale, remember, badiya, emosanal, bechara, meethe, exchange, dyndra, jitni, thi, letay, miley, sale, patane, id, kharidkhar, ap, todti, jaega, sleeping, pad, yojana, very, great, wd, if, crack, hurt, bollywood, marks, saali, bato, bhut, thrgh, tym, bta, thoda, btayega, neend, release, shi, drink, basicaly, auntys, stock, bike, facts, admsn, thatz, lammmmbbbbbaaaaaa, jaata, cncl, zamana, hame, thank, hell, esi, being, sem, hyderabad, dn, laptop, you, acchi, hogi, kharche, pehenne, yeh, official, nh, make, both, bhandarkar, and, standing, karta, corruption, hokr, tha, ary, abe, jisme, topper, poster, be, oconnor, case, bht, thankyou, failurez, daala, 6, uske, delay, ji, jaaye, kahenge, faclulty, ayi, pehle, jinhe, saala, after, confidence, pina, khada, stop, kaaran, kr, sunna, boss, confesor, 99, university, aadhe, chap, humari, payar, majedar, log, those, federer, cool, overrct, khul, leone, 60, daddy, value, trying, y, trust, confessions, pdega, tourism, haar, tumhari, pdi, dhakke, known, remake, frnshpday, raina, yaara, ragging, sukriya, heaven, bnta, extraordinary, today, kaun, old, sing, boys, kinda, bkwaas, totaly, position, sidha, chali, aur, coke, bande, few, gae, harmonal, bata, kitni, chalne, ladai, chipka, herself, duc, gujjar, jyada, brother, hmesha, hero, summer, bhot, jaatin, car, padke, gujarat, s, hai, chutiyaa, made, baby, torture, pd, admin, choro, fool, suicide, t, store, at, inne, to, v, engineer, apneapuko, vs, bohot, yhi, village, was, q, dekha, krva, husn, brave, salman, sex, thanda, clg, hostels, dnt, next, sakate, army, wrds, possible, maar, match, loads, chehra, hui, garmi, hataao, dhadkan, luck, dubara, pgl, ashamed, supprt, diffrnce, itna, meri, aaega, 2, iss, dharti, tum, kyun, shared, gf, thik, perfume, lyf, elections, tomr, mre, aye, krde, psent, nikl, khate, wow, treatment, legal, sat, tower, 0, khali, hau, kiski, baar, aakar, other, diye, nawabi, hmare, sapno, nitish, pakate, jadhav, ray, touch, bsnl, mene, fir, fuche, lipstik, mill, prblm, pelhe, god, achi, kaan, krtay, waiting, baksh, posted, cup, movies, end, youre, shame, waste, maintaining, earned, bt, rishte, bhad, jayega, buland, class, maha, preity, up, dunia, kare, news, bahu, they, pahali, qk, hume, ko, kubsurtsi, for, earth, lovers, cm, aese, padhne, jae, bi, dobara, banaya, ucchalo, gaye, itne, cnfdnt, bukhaar, waala, kese, politician, entnaa, achhi, jarurat, shadi, tailor, tne, matki, 2day, difficult, rikshaw, nind, ï»¿sehwag, bade, arya, good, fat, simply, cnfsn, super, jadeja, she, horahahe, crption, we, eicon1, standards, skte, maasi, surprise, chief, over, topic, kahne, now, agaye, hoti, rhe, dus, chutiya, tumne, liya, support, sorry, comments, gc, puri, rakh, karte, cnfs, pathetic, bed, yar, moments, guy, aapko, bless, normal, kum, ever, tension, died, past, dekho, ansu, mobile, something, break, under, pati, hona, itz, karthi, gumane, stay, rakhsha, roti, gifts, milkar, rest, bhaag, p, download, rahe, chodo, maaniye, many, look, mindset, mere, ha, ws, uneki, khan, unki, ustad, chain, acpt, biriyaani, khelne, fb, chahti, bhhut, bole, tar, tje, papa, aajkal, move, thinks, frustatd, lekar, 9, start, smart, aanewaala, chura, useful, arai, bnakar, srk, mobiles, jab, sala, lagata, lagega, nahi, yes, krana, di, naa, abvp, lo, cricket, jana, seema, yha, bach, pass, mushaq, tk, them, teen, gai, tak, dard, apni, olive, galo, nok, masala, hn, love, singel, awaas, chale, skta, kia, power, angelina, agree, chehre, yadav, australia, tera, hr, relation, situatn, frst, yourself, hahaha, dekhaka, sakti, jaisi, gme, confusing, krti, arey, promote, grossing, a, padta, goodu, bhul, ayega, behvr, markandey, hae, indians, karlo, mare, reading, before, broadband, unlike, kyu, humhe, bete, gr8, episode, nobody, wid, are, collection, 2hr, gucci, cheezo, darling, aajayengey, huhi, pk, dia, cut, wrna, beh, basanti, should, wai, kaise, people, chun, iit, time, kadr, skydeck, jatey, or, mentaly, tho, bhau, dhoom, pataao, lesson, respect, kbc, dhoni, christian, badiii, sabse, read, npr, rahahu, bajaye, aaa, ache, jodi, undstand, ladke, pta, tarfa, padho, gyi, has, dear, allowd, frnds, kool, tumhe, california, pappu, sweet, 66, appreciate, gillo, deserv, dissatisfies, iitians, cake, akisama, chore, need, kroooooo, years, apko, dekhengey, sob, post, pauua, gandalf, 90, thinking, rkh, nikla, honeymoon, bismillah, aour, wind, hotel, tujhpe, mara, tuje, ja, dosth, ske, lots, shikayat, tre, pyaari, rape, mili, rahega, maruti, vivah, bhag, mamo, bhaav, ise, rhane, atyachar, cheat, kamo, ple, khe, dont, plz, de, yaad, dainik, ghar, sikha, why, mature, wajah, sch, lettr, delhi, choot, yehi, le, job, sumjeme, krlo, minister, karishma, jada, thachalo, aa, 80, haha, i, jiske, chalayega, hotey, keylia, baithi, kar, kissed, congressi, topics, sahi, likes, chaand, aj, ghmne, photograph, bachene, dat, times, change, give, evry, 4, into, sad, upon, whoever, zen, toh, hm, vala, bhaut, divide, dhkan, milne, parentz, bahar, bill, tan, beer, plan, loot, sabko, hgya, dad, bharti, muh, yatho, ppl, fus, fr, moto, true, deepika, breaking, phuch, govt, kambli, dialogue, armaan, pi, ponting, drar, prediction, neck, saath, superb, sbne, bank, floor, abhinetri, idiot, khokhli, main, har, vinod, moti, acha, ending, hasaye, sholay, bura, its, h, but, one, status, dusro, lag, cal, thnk, ice, apke, fadooo, dekhna, thanks, rehti, wishing, youll, rapists, more, success, wit, ur, babugi, wishes, kilaste, pukar, bday, some, second, hor, bengaali, iphone, u, chor, tume, aucha, unemployment, widout, indira, kre, inhe, aswariya, khadi, kabool, likhai, naaa, accha, lv, jayram, themselves, mut, khudkhusi, record, bombay, lenge, sa, do, jaise, battery, us, kitne, 4din, glti, mein, garg, felngs, shyd, ganda, galat, intrst, watching, gujrat, fun, sms, odi, insaan, confessor, angryy, chal, chayiye, classic, hope, network, prakash, comment, sc, pls, women, smile, unuko, trophy, about, way, maa, kch, lgegi'"
            ],
            "application/vnd.google.colaboratory.intrinsic+json": {
              "type": "string"
            }
          },
          "metadata": {},
          "execution_count": 11
        }
      ]
    }
  ]
}